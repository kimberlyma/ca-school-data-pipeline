{
 "cells": [
  {
   "cell_type": "markdown",
   "metadata": {},
   "source": [
    "Some description here in the future! <font color = 'red'> **Still heavily under construction** </font>"
   ]
  },
  {
   "cell_type": "code",
   "execution_count": null,
   "metadata": {},
   "outputs": [],
   "source": [
    "import boto3\n",
    "import numpy as np\n",
    "import pandas as pd\n",
    "from io import StringIO\n",
    "import matplotlib.pyplot as plt\n",
    "import seaborn as sns"
   ]
  },
  {
   "cell_type": "markdown",
   "metadata": {},
   "source": [
    "Let's connect to S3 and grab the bucket that contains our data: "
   ]
  },
  {
   "cell_type": "code",
   "execution_count": 2,
   "metadata": {},
   "outputs": [],
   "source": [
    "s3 = boto3.client('s3')\n",
    "bucket = 'personproject.b'"
   ]
  },
  {
   "cell_type": "code",
   "execution_count": null,
   "metadata": {},
   "outputs": [],
   "source": [
    "csv_obj = s3.get_object(Bucket=bucket, Key='cahsee2015.txt')\n",
    "body = csv_obj['Body']\n",
    "csv_string = body.read().decode('utf-8')\n",
    "df = pd.read_csv(StringIO(csv_string), sep = \"\\t\", dtype={\"CountyCode\": string, \"MathTestDate\": object, \"ELATestDate\": object, \n",
    "                                                          \"ELAPercentNotPassed\": float, \"GradeLevel\": object})"
   ]
  },
  {
   "cell_type": "code",
   "execution_count": null,
   "metadata": {},
   "outputs": [],
   "source": [
    "cahsee_15 = df"
   ]
  },
  {
   "cell_type": "markdown",
   "metadata": {},
   "source": [
    "Record Type: Classifies the level of data \n",
    "04=state, 05=county,06=district,07=school\n",
    "\n",
    "SummaryType: Subgroup"
   ]
  },
  {
   "cell_type": "markdown",
   "metadata": {},
   "source": [
    "I know I do not want to work with all the data, so I'll examine the columns and pick which ones I'm interested in working with."
   ]
  },
  {
   "cell_type": "code",
   "execution_count": null,
   "metadata": {},
   "outputs": [],
   "source": [
    "cahsee_15.columns.values"
   ]
  },
  {
   "cell_type": "code",
   "execution_count": null,
   "metadata": {},
   "outputs": [],
   "source": [
    "cahsee_15.head(3)"
   ]
  },
  {
   "cell_type": "code",
   "execution_count": null,
   "metadata": {},
   "outputs": [],
   "source": [
    "cahsee_15.info()"
   ]
  },
  {
   "cell_type": "code",
   "execution_count": null,
   "metadata": {},
   "outputs": [],
   "source": [
    "cahsee_15 = cahsee_15[['CountyCode', 'DistrictCode', 'SchoolCode','CountyName','DistrictName', 'SchoolName', 'RecordType', 'SummaryType', \n",
    "    'MathGrade10AnswerSheetsProcessed','MathNumberTested', 'MathPercentPassed', 'MathPercentProfAndAbove', \n",
    "       'ELAGrade10AnswerSheetsProcessed', 'ELANumberTested', 'ELAPercentPassed', 'ELAPercentProfAndAbove']]"
   ]
  },
  {
   "cell_type": "code",
   "execution_count": null,
   "metadata": {},
   "outputs": [],
   "source": [
    "data_levels = {4: \"state\", 5: \"county\", 6: 'district', 7:'school'}\n",
    "\n",
    "cahsee_15 = cahsee_15.replace({\"RecordType\": data_levels})\n",
    "\n",
    "cahsee_15.head(5)"
   ]
  },
  {
   "cell_type": "markdown",
   "metadata": {},
   "source": [
    "I'm noticing the Percent Prof and Above columns are showing 0% for the first few rows. This appears odd to me as the 'Percent Passed' columns have non-zero values. I want to explore this further after routine data cleaning."
   ]
  },
  {
   "cell_type": "markdown",
   "metadata": {},
   "source": [
    "While the report uses dashes to represent suppressed data for number tested (n) <= 10, the file represents supressed data as 0's in the data rows. We'll manually suppress these rows and check the distribution of scores for the test levels."
   ]
  },
  {
   "cell_type": "code",
   "execution_count": null,
   "metadata": {},
   "outputs": [],
   "source": [
    "cahsee_15.loc[cahsee_15['MathNumberTested'] <= 10, ['MathPercentProfAndAbove','MathPercentPassed']] = None\n",
    "cahsee_15.loc[cahsee_15['ELANumberTested'] <= 10, ['ELAPercentProfAndAbove','ELAPercentPassed']] = None"
   ]
  },
  {
   "cell_type": "code",
   "execution_count": null,
   "metadata": {},
   "outputs": [],
   "source": [
    "state_level = cahsee_15.loc[cahsee_15['RecordType'] == 'state','MathPercentPassed']\n",
    "county_level = cahsee_15.loc[cahsee_15['RecordType'] == 'county','MathPercentPassed']\n",
    "district_level = cahsee_15.loc[cahsee_15['RecordType'] == 'district','MathPercentPassed']\n",
    "school_level = cahsee_15.loc[cahsee_15['RecordType'] == 'school','MathPercentPassed']"
   ]
  },
  {
   "cell_type": "code",
   "execution_count": null,
   "metadata": {},
   "outputs": [],
   "source": [
    "test = cahsee_15.loc[cahsee_15['MathPercentPassed'] == 0.0, 'MathGrade10AnswerSheetsProcessed']"
   ]
  },
  {
   "cell_type": "markdown",
   "metadata": {},
   "source": [
    "\"In addition to the use of the CAHSEE as a graduation requirement, the CAHSEE\n",
    "grade ten census administration is used in calculating the Academic Performance\n",
    "Index for state accountability purposes and Adequate Yearly Progress (AYP) to\n",
    "meet federal requirements.\""
   ]
  },
  {
   "cell_type": "code",
   "execution_count": null,
   "metadata": {},
   "outputs": [],
   "source": [
    "cahsee_15 = (cahsee_15.query('MathGrade10AnswerSheetsProcessed > 0 & ELAGrade10AnswerSheetsProcessed > 0'))"
   ]
  },
  {
   "cell_type": "code",
   "execution_count": null,
   "metadata": {},
   "outputs": [],
   "source": [
    "state_level = cahsee_15.loc[cahsee_15['RecordType'] == 'state','MathPercentPassed']\n",
    "county_level = cahsee_15.loc[cahsee_15['RecordType'] == 'county','MathPercentPassed']\n",
    "district_level = cahsee_15.loc[cahsee_15['RecordType'] == 'district','MathPercentPassed']\n",
    "school_level = cahsee_15.loc[cahsee_15['RecordType'] == 'school','MathPercentPassed']"
   ]
  },
  {
   "cell_type": "code",
   "execution_count": null,
   "metadata": {},
   "outputs": [],
   "source": [
    "fig = plt.figure(figsize=(20, 10))\n",
    "plt.subplot(221)\n",
    "plt.hist(state_level[~np.isnan(state_level)])\n",
    "plt.axvline(state_level.mean(), color = 'r', linestyle = 'dashed')\n",
    "plt.subplot(222)\n",
    "plt.hist(county_level[~np.isnan(county_level)])\n",
    "plt.axvline(county_level.mean(), color = 'r', linestyle = 'dashed')\n",
    "plt.subplot(223)\n",
    "plt.hist(district_level[~np.isnan(district_level)])\n",
    "plt.axvline(district_level.mean(), color = 'r', linestyle = 'dashed')\n",
    "plt.subplot(224)\n",
    "plt.hist(school_level[~np.isnan(school_level)])\n",
    "plt.axvline(school_level.mean(), color = 'r', linestyle = 'dashed')"
   ]
  },
  {
   "cell_type": "code",
   "execution_count": null,
   "metadata": {},
   "outputs": [],
   "source": [
    "cahsee_15.loc[cahsee_15['RecordType'] == 'school'].groupby(by = 'CountyName').agg({'MathPercentPassed':'mean', 'ELAPercentPassed': 'mean'}).sort_values('ELAPercentPassed', ascending = False)"
   ]
  },
  {
   "cell_type": "code",
   "execution_count": null,
   "metadata": {},
   "outputs": [],
   "source": [
    "ca_directory = pd.read_table(\"./data/pubschls.txt\", sep = \"\\t\")\n",
    "ca_directory.head()"
   ]
  }
 ],
 "metadata": {
  "kernelspec": {
   "display_name": "Python 3",
   "language": "python",
   "name": "python3"
  },
  "language_info": {
   "codemirror_mode": {
    "name": "ipython",
    "version": 3
   },
   "file_extension": ".py",
   "mimetype": "text/x-python",
   "name": "python",
   "nbconvert_exporter": "python",
   "pygments_lexer": "ipython3",
   "version": "3.6.5"
  }
 },
 "nbformat": 4,
 "nbformat_minor": 2
}
