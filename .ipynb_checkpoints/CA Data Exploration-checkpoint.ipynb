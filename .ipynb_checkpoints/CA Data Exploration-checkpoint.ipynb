{
 "cells": [
  {
   "cell_type": "markdown",
   "metadata": {},
   "source": [
    "# still under construction\n",
    "\n",
    "# CAHSEE Data Exploration\n",
    "\n",
    "The California High School Exit Examination (CAHSEE) was a state mandated test for students graduating high school. It tested students on ELA and Math. It was recently (2017) repealed. The California Department of Education has 2002-2015 data available on their website. In the first part of my project I wrote a small script to extract the data for analysis. In this exploratory project I'll pull one years data and take a look."
   ]
  },
  {
   "cell_type": "code",
   "execution_count": 2,
   "metadata": {},
   "outputs": [],
   "source": [
    "import boto3\n",
    "import numpy as np\n",
    "import pandas as pd\n",
    "from io import StringIO\n",
    "import matplotlib.pyplot as plt\n",
    "import matplotlib.image as mpimg"
   ]
  },
  {
   "cell_type": "markdown",
   "metadata": {},
   "source": [
    "## Getting the data\n",
    "Let's connect to S3 and grab the bucket that contains our data: "
   ]
  },
  {
   "cell_type": "code",
   "execution_count": 3,
   "metadata": {},
   "outputs": [],
   "source": [
    "s3 = boto3.client('s3')\n",
    "bucket = 'personproject.b'"
   ]
  },
  {
   "cell_type": "code",
   "execution_count": 4,
   "metadata": {},
   "outputs": [],
   "source": [
    "csv_obj = s3.get_object(Bucket=bucket, Key='cahsee2015.txt')\n",
    "body = csv_obj['Body']\n",
    "csv_string = body.read().decode('utf-8')\n",
    "df = pd.read_csv(StringIO(csv_string), sep = \"\\t\", dtype={\"CountyCode\": object, \"DistrictCode\": object, \"CharterNumber\": object, \"SchoolCode\": object, \"MathTestDate\": object, \"ELATestDate\": object, \n",
    "                                                          \"ELAPercentNotPassed\": float, \"GradeLevel\": object})"
   ]
  },
  {
   "cell_type": "code",
   "execution_count": 77,
   "metadata": {},
   "outputs": [],
   "source": [
    "cahsee_15 = df"
   ]
  },
  {
   "cell_type": "markdown",
   "metadata": {},
   "source": [
    "## Brief summary of fields\n",
    "\n",
    "The California Department of Education provides layout files for the data here: https://cahsee.cde.ca.gov/filestruct2015.asp\n",
    "\n",
    "For this project the following is most relevant:\n",
    "<ul><b>Record Type:</b> Classifies the level of data \n",
    "<li>04=state\n",
    "<li>05=county\n",
    "<li>06=district\n",
    "<li>07=school\n",
    "    </ul>\n",
    "\n",
    "<ul><b>SummaryType:</b> Subgroup\n",
    "<li>01=All Students Tested\n",
    "\n",
    "<li>02=Grade 10\n",
    "\n",
    "<li>03=Grade 11\n",
    "\n",
    "<li>04=Grade 12\n",
    "\n",
    "<li>05=Grade AE\n",
    "\n",
    "<li>06=Grade Unknown\n",
    "\n",
    "<li>07=Male\n",
    "\n",
    "<li>08=Female\n",
    "\n",
    "<li>09=Gender Unknown\n",
    "\n",
    "<li>10=American Indian or Alaskan Native\n",
    "\n",
    "<li>11=Asian\n",
    "\n",
    "<li>12=Pacific Islander\n",
    "    <br>...\n",
    "<li>47= Not Eco. Disadvantaged Two or More Races\n",
    "\n",
    "\n",
    "    \n",
    "</ul>\n"
   ]
  },
  {
   "cell_type": "markdown",
   "metadata": {},
   "source": [
    "For this particular small project I do not want to work with all the data, so I'll look at the file layout and also examine the data further and pick which ones I'm interested in looking at."
   ]
  },
  {
   "cell_type": "code",
   "execution_count": 78,
   "metadata": {},
   "outputs": [
    {
     "data": {
      "text/plain": [
       "array(['CountyCode', 'DistrictCode', 'CharterNumber', 'SchoolCode',\n",
       "       'CountyName', 'DistrictName', 'SchoolName', 'RecordType',\n",
       "       'SummaryType', 'Administration', 'MathTestDate',\n",
       "       'MathGrade10AnswerSheetsProcessed', 'MathNumberTested',\n",
       "       'MathNumberPassed', 'MathPercentPassed', 'MathNumberNotPassed',\n",
       "       'MathPercentageNotPassed', 'MathMEanScaleScore',\n",
       "       'MathPSPercentCorrect', 'MathNSPercentCorrect',\n",
       "       'MathAFPercentCorrect', 'MathMGPercentCorrect',\n",
       "       'MathA1PercentCorrect', 'ELATestDate',\n",
       "       'ELAGrade10AnswerSheetsProcessed', 'ELANumberTested',\n",
       "       'ELANumberPassed', 'ELAPercentPassed', 'ELANumberNotPassed',\n",
       "       'ELAPercentNotPassed', 'ELAMeanScaleScore', 'ELAWAPercentCorrect',\n",
       "       'ELARCPercentCorrect', 'ELALRAPercentCorrect',\n",
       "       'ELAWSPercentCorrect', 'ELAWCPercentCorrect', 'ELAES1AvgScore',\n",
       "       'Filler', 'SystemDate', 'GradeLevel', 'MathPercentProfAndAbove',\n",
       "       'ELAPercentProfAndAbove', 'Unnamed: 42'], dtype=object)"
      ]
     },
     "execution_count": 78,
     "metadata": {},
     "output_type": "execute_result"
    }
   ],
   "source": [
    "cahsee_15.columns.values"
   ]
  },
  {
   "cell_type": "code",
   "execution_count": 79,
   "metadata": {},
   "outputs": [
    {
     "data": {
      "text/html": [
       "<div>\n",
       "<style scoped>\n",
       "    .dataframe tbody tr th:only-of-type {\n",
       "        vertical-align: middle;\n",
       "    }\n",
       "\n",
       "    .dataframe tbody tr th {\n",
       "        vertical-align: top;\n",
       "    }\n",
       "\n",
       "    .dataframe thead th {\n",
       "        text-align: right;\n",
       "    }\n",
       "</style>\n",
       "<table border=\"1\" class=\"dataframe\">\n",
       "  <thead>\n",
       "    <tr style=\"text-align: right;\">\n",
       "      <th></th>\n",
       "      <th>CountyCode</th>\n",
       "      <th>DistrictCode</th>\n",
       "      <th>CharterNumber</th>\n",
       "      <th>SchoolCode</th>\n",
       "      <th>CountyName</th>\n",
       "      <th>DistrictName</th>\n",
       "      <th>SchoolName</th>\n",
       "      <th>RecordType</th>\n",
       "      <th>SummaryType</th>\n",
       "      <th>Administration</th>\n",
       "      <th>...</th>\n",
       "      <th>ELALRAPercentCorrect</th>\n",
       "      <th>ELAWSPercentCorrect</th>\n",
       "      <th>ELAWCPercentCorrect</th>\n",
       "      <th>ELAES1AvgScore</th>\n",
       "      <th>Filler</th>\n",
       "      <th>SystemDate</th>\n",
       "      <th>GradeLevel</th>\n",
       "      <th>MathPercentProfAndAbove</th>\n",
       "      <th>ELAPercentProfAndAbove</th>\n",
       "      <th>Unnamed: 42</th>\n",
       "    </tr>\n",
       "  </thead>\n",
       "  <tbody>\n",
       "    <tr>\n",
       "      <th>0</th>\n",
       "      <td>01</td>\n",
       "      <td>00000</td>\n",
       "      <td>000</td>\n",
       "      <td>0000000</td>\n",
       "      <td>Alameda County</td>\n",
       "      <td></td>\n",
       "      <td></td>\n",
       "      <td>5</td>\n",
       "      <td>1</td>\n",
       "      <td>S</td>\n",
       "      <td>...</td>\n",
       "      <td>53.0</td>\n",
       "      <td>43.0</td>\n",
       "      <td>55.0</td>\n",
       "      <td>2.0</td>\n",
       "      <td>0</td>\n",
       "      <td>07/28/15</td>\n",
       "      <td>12</td>\n",
       "      <td>0.0</td>\n",
       "      <td>0.0</td>\n",
       "      <td>NaN</td>\n",
       "    </tr>\n",
       "    <tr>\n",
       "      <th>1</th>\n",
       "      <td>01</td>\n",
       "      <td>00000</td>\n",
       "      <td>000</td>\n",
       "      <td>0000000</td>\n",
       "      <td>Alameda County</td>\n",
       "      <td></td>\n",
       "      <td></td>\n",
       "      <td>5</td>\n",
       "      <td>7</td>\n",
       "      <td>S</td>\n",
       "      <td>...</td>\n",
       "      <td>53.0</td>\n",
       "      <td>43.0</td>\n",
       "      <td>55.0</td>\n",
       "      <td>2.0</td>\n",
       "      <td>0</td>\n",
       "      <td>07/28/15</td>\n",
       "      <td>12</td>\n",
       "      <td>0.0</td>\n",
       "      <td>0.0</td>\n",
       "      <td>NaN</td>\n",
       "    </tr>\n",
       "    <tr>\n",
       "      <th>2</th>\n",
       "      <td>01</td>\n",
       "      <td>00000</td>\n",
       "      <td>000</td>\n",
       "      <td>0000000</td>\n",
       "      <td>Alameda County</td>\n",
       "      <td></td>\n",
       "      <td></td>\n",
       "      <td>5</td>\n",
       "      <td>8</td>\n",
       "      <td>S</td>\n",
       "      <td>...</td>\n",
       "      <td>52.0</td>\n",
       "      <td>43.0</td>\n",
       "      <td>56.0</td>\n",
       "      <td>2.1</td>\n",
       "      <td>0</td>\n",
       "      <td>07/28/15</td>\n",
       "      <td>12</td>\n",
       "      <td>0.0</td>\n",
       "      <td>0.0</td>\n",
       "      <td>NaN</td>\n",
       "    </tr>\n",
       "  </tbody>\n",
       "</table>\n",
       "<p>3 rows × 43 columns</p>\n",
       "</div>"
      ],
      "text/plain": [
       "  CountyCode DistrictCode CharterNumber SchoolCode      CountyName  \\\n",
       "0         01        00000           000    0000000  Alameda County   \n",
       "1         01        00000           000    0000000  Alameda County   \n",
       "2         01        00000           000    0000000  Alameda County   \n",
       "\n",
       "  DistrictName SchoolName  RecordType  SummaryType Administration  \\\n",
       "0                                   5            1              S   \n",
       "1                                   5            7              S   \n",
       "2                                   5            8              S   \n",
       "\n",
       "      ...      ELALRAPercentCorrect  ELAWSPercentCorrect  ELAWCPercentCorrect  \\\n",
       "0     ...                      53.0                 43.0                 55.0   \n",
       "1     ...                      53.0                 43.0                 55.0   \n",
       "2     ...                      52.0                 43.0                 56.0   \n",
       "\n",
       "   ELAES1AvgScore  Filler  SystemDate  GradeLevel  MathPercentProfAndAbove  \\\n",
       "0             2.0       0    07/28/15          12                      0.0   \n",
       "1             2.0       0    07/28/15          12                      0.0   \n",
       "2             2.1       0    07/28/15          12                      0.0   \n",
       "\n",
       "   ELAPercentProfAndAbove  Unnamed: 42  \n",
       "0                     0.0          NaN  \n",
       "1                     0.0          NaN  \n",
       "2                     0.0          NaN  \n",
       "\n",
       "[3 rows x 43 columns]"
      ]
     },
     "execution_count": 79,
     "metadata": {},
     "output_type": "execute_result"
    }
   ],
   "source": [
    "cahsee_15.head(3)"
   ]
  },
  {
   "cell_type": "code",
   "execution_count": 80,
   "metadata": {},
   "outputs": [],
   "source": [
    "cahsee_15 = cahsee_15[['CountyCode', 'DistrictCode', 'SchoolCode','CountyName','DistrictName', 'SchoolName', 'RecordType', 'SummaryType', \n",
    "    'GradeLevel','MathGrade10AnswerSheetsProcessed','MathNumberTested', 'MathPercentPassed', 'MathPercentProfAndAbove', \n",
    "       'ELAGrade10AnswerSheetsProcessed', 'ELANumberTested', 'ELAPercentPassed', 'ELAPercentProfAndAbove']]"
   ]
  },
  {
   "cell_type": "markdown",
   "metadata": {},
   "source": [
    "## Validating and Cleaning"
   ]
  },
  {
   "cell_type": "code",
   "execution_count": 81,
   "metadata": {},
   "outputs": [
    {
     "name": "stdout",
     "output_type": "stream",
     "text": [
      "<class 'pandas.core.frame.DataFrame'>\n",
      "RangeIndex: 715380 entries, 0 to 715379\n",
      "Data columns (total 17 columns):\n",
      "CountyCode                          715380 non-null object\n",
      "DistrictCode                        715380 non-null object\n",
      "SchoolCode                          715380 non-null object\n",
      "CountyName                          715380 non-null object\n",
      "DistrictName                        715380 non-null object\n",
      "SchoolName                          715380 non-null object\n",
      "RecordType                          715380 non-null int64\n",
      "SummaryType                         715380 non-null int64\n",
      "GradeLevel                          715380 non-null object\n",
      "MathGrade10AnswerSheetsProcessed    715380 non-null int64\n",
      "MathNumberTested                    715380 non-null int64\n",
      "MathPercentPassed                   715380 non-null float64\n",
      "MathPercentProfAndAbove             715380 non-null float64\n",
      "ELAGrade10AnswerSheetsProcessed     715380 non-null int64\n",
      "ELANumberTested                     715380 non-null int64\n",
      "ELAPercentPassed                    715380 non-null float64\n",
      "ELAPercentProfAndAbove              715380 non-null float64\n",
      "dtypes: float64(4), int64(6), object(7)\n",
      "memory usage: 92.8+ MB\n"
     ]
    }
   ],
   "source": [
    "cahsee_15.info()"
   ]
  },
  {
   "cell_type": "markdown",
   "metadata": {},
   "source": [
    "While the report uses dashes to represent suppressed data for number tested (n) <= 10, the file represents supressed data as 0's in the data rows. We'll manually suppress these rows "
   ]
  },
  {
   "cell_type": "code",
   "execution_count": 82,
   "metadata": {},
   "outputs": [
    {
     "name": "stderr",
     "output_type": "stream",
     "text": [
      "/Users/Kimberly/anaconda3/lib/python3.6/site-packages/pandas/core/indexing.py:543: SettingWithCopyWarning: \n",
      "A value is trying to be set on a copy of a slice from a DataFrame.\n",
      "Try using .loc[row_indexer,col_indexer] = value instead\n",
      "\n",
      "See the caveats in the documentation: http://pandas.pydata.org/pandas-docs/stable/indexing.html#indexing-view-versus-copy\n",
      "  self.obj[item] = s\n"
     ]
    }
   ],
   "source": [
    "cahsee_15.loc[cahsee_15['MathNumberTested'] <= 10, ['MathPercentProfAndAbove','MathPercentPassed']] = None\n",
    "cahsee_15.loc[cahsee_15['ELANumberTested'] <= 10, ['ELAPercentProfAndAbove','ELAPercentPassed']] = None"
   ]
  },
  {
   "cell_type": "markdown",
   "metadata": {},
   "source": [
    "Now I'll make map the number codes to more meaningful values."
   ]
  },
  {
   "cell_type": "code",
   "execution_count": 83,
   "metadata": {},
   "outputs": [
    {
     "name": "stdout",
     "output_type": "stream",
     "text": [
      "['county' 'district' 'school' 'state']\n",
      "['All Students' 'Male' 'Female' 'American Indian or Alaskan Native'\n",
      " 'Asian' 'Pacific Islander' 'Filipino' 'Hispanic or Latino'\n",
      " 'African American or Black' 'White' 'Two or More Races' 'English Only'\n",
      " 'Initially Fluent English Proficient (IFEP)'\n",
      " 'Redesignated Fluent English Proficient (RFEP)' ' English Learner (EL)'\n",
      " 'Language Fluency Unknown' 'Not Economically Disadvantaged'\n",
      " 'Economically Disadvantaged' 'Economic Status Unknown'\n",
      " 'Participating in Special Education Program' 'Tested with modifications'\n",
      " 'Grade 12' 'Grade AE' 'Gender Unknown'\n",
      " 'Participating in Migrant Education Program' 'Grade 11' 31 32 33 34 35 36\n",
      " 37 38 40 41 42 43 44 45 46 47 'Grade 10' 'Grade Unknown']\n"
     ]
    }
   ],
   "source": [
    "data_levels = {4: \"state\", 5: \"county\", 6: 'district', 7:'school'}\n",
    "\n",
    "summary_levels = {1: 'All Students', 2: 'Grade 10', 3: 'Grade 11', 4:'Grade 12', 5:'Grade AE', 6: 'Grade Unknown',\n",
    "                 7: 'Male', 8:'Female', 9: 'Gender Unknown', 10: 'American Indian or Alaskan Native', 11:'Asian',\n",
    "                  12: 'Pacific Islander', 13:'Filipino', 14: 'Hispanic or Latino', 15:'African American or Black', 16:'White',\n",
    "                  17: 'Two or More Races',19: 'English Only',20: 'Initially Fluent English Proficient (IFEP)', 21:'Redesignated Fluent English Proficient (RFEP)',\n",
    "                  22:' English Learner (EL)',23: 'Language Fluency Unknown',24: 'Not Economically Disadvantaged',25: 'Economically Disadvantaged',\n",
    "                  26: 'Economic Status Unknown',28: 'Participating in Migrant Education Program',29: 'Participating in Special Education Program',\n",
    "                  30: 'Tested with modifications'}\n",
    "\n",
    "cahsee_15 = cahsee_15.replace({\"RecordType\": data_levels})\n",
    "cahsee_15 = cahsee_15.replace({\"SummaryType\": summary_levels})\n",
    "\n",
    "print(cahsee_15.RecordType.unique())\n",
    "print(cahsee_15.SummaryType.unique())"
   ]
  },
  {
   "cell_type": "code",
   "execution_count": 84,
   "metadata": {},
   "outputs": [
    {
     "data": {
      "text/html": [
       "<div>\n",
       "<style scoped>\n",
       "    .dataframe tbody tr th:only-of-type {\n",
       "        vertical-align: middle;\n",
       "    }\n",
       "\n",
       "    .dataframe tbody tr th {\n",
       "        vertical-align: top;\n",
       "    }\n",
       "\n",
       "    .dataframe thead th {\n",
       "        text-align: right;\n",
       "    }\n",
       "</style>\n",
       "<table border=\"1\" class=\"dataframe\">\n",
       "  <thead>\n",
       "    <tr style=\"text-align: right;\">\n",
       "      <th></th>\n",
       "      <th>CountyCode</th>\n",
       "      <th>DistrictCode</th>\n",
       "      <th>SchoolCode</th>\n",
       "      <th>CountyName</th>\n",
       "      <th>DistrictName</th>\n",
       "      <th>SchoolName</th>\n",
       "      <th>RecordType</th>\n",
       "      <th>SummaryType</th>\n",
       "      <th>GradeLevel</th>\n",
       "      <th>MathGrade10AnswerSheetsProcessed</th>\n",
       "      <th>MathNumberTested</th>\n",
       "      <th>MathPercentPassed</th>\n",
       "      <th>MathPercentProfAndAbove</th>\n",
       "      <th>ELAGrade10AnswerSheetsProcessed</th>\n",
       "      <th>ELANumberTested</th>\n",
       "      <th>ELAPercentPassed</th>\n",
       "      <th>ELAPercentProfAndAbove</th>\n",
       "    </tr>\n",
       "  </thead>\n",
       "  <tbody>\n",
       "    <tr>\n",
       "      <th>0</th>\n",
       "      <td>01</td>\n",
       "      <td>00000</td>\n",
       "      <td>0000000</td>\n",
       "      <td>Alameda County</td>\n",
       "      <td></td>\n",
       "      <td></td>\n",
       "      <td>county</td>\n",
       "      <td>All Students</td>\n",
       "      <td>12</td>\n",
       "      <td>0</td>\n",
       "      <td>188</td>\n",
       "      <td>18.0</td>\n",
       "      <td>0.0</td>\n",
       "      <td>0</td>\n",
       "      <td>227</td>\n",
       "      <td>22.0</td>\n",
       "      <td>0.0</td>\n",
       "    </tr>\n",
       "    <tr>\n",
       "      <th>1</th>\n",
       "      <td>01</td>\n",
       "      <td>00000</td>\n",
       "      <td>0000000</td>\n",
       "      <td>Alameda County</td>\n",
       "      <td></td>\n",
       "      <td></td>\n",
       "      <td>county</td>\n",
       "      <td>Male</td>\n",
       "      <td>12</td>\n",
       "      <td>0</td>\n",
       "      <td>87</td>\n",
       "      <td>16.0</td>\n",
       "      <td>0.0</td>\n",
       "      <td>0</td>\n",
       "      <td>124</td>\n",
       "      <td>24.0</td>\n",
       "      <td>0.0</td>\n",
       "    </tr>\n",
       "    <tr>\n",
       "      <th>2</th>\n",
       "      <td>01</td>\n",
       "      <td>00000</td>\n",
       "      <td>0000000</td>\n",
       "      <td>Alameda County</td>\n",
       "      <td></td>\n",
       "      <td></td>\n",
       "      <td>county</td>\n",
       "      <td>Female</td>\n",
       "      <td>12</td>\n",
       "      <td>0</td>\n",
       "      <td>101</td>\n",
       "      <td>19.0</td>\n",
       "      <td>0.0</td>\n",
       "      <td>0</td>\n",
       "      <td>103</td>\n",
       "      <td>20.0</td>\n",
       "      <td>0.0</td>\n",
       "    </tr>\n",
       "    <tr>\n",
       "      <th>3</th>\n",
       "      <td>01</td>\n",
       "      <td>00000</td>\n",
       "      <td>0000000</td>\n",
       "      <td>Alameda County</td>\n",
       "      <td></td>\n",
       "      <td></td>\n",
       "      <td>county</td>\n",
       "      <td>American Indian or Alaskan Native</td>\n",
       "      <td>12</td>\n",
       "      <td>0</td>\n",
       "      <td>1</td>\n",
       "      <td>NaN</td>\n",
       "      <td>NaN</td>\n",
       "      <td>0</td>\n",
       "      <td>1</td>\n",
       "      <td>NaN</td>\n",
       "      <td>NaN</td>\n",
       "    </tr>\n",
       "    <tr>\n",
       "      <th>4</th>\n",
       "      <td>01</td>\n",
       "      <td>00000</td>\n",
       "      <td>0000000</td>\n",
       "      <td>Alameda County</td>\n",
       "      <td></td>\n",
       "      <td></td>\n",
       "      <td>county</td>\n",
       "      <td>Asian</td>\n",
       "      <td>12</td>\n",
       "      <td>0</td>\n",
       "      <td>17</td>\n",
       "      <td>29.0</td>\n",
       "      <td>0.0</td>\n",
       "      <td>0</td>\n",
       "      <td>49</td>\n",
       "      <td>14.0</td>\n",
       "      <td>0.0</td>\n",
       "    </tr>\n",
       "  </tbody>\n",
       "</table>\n",
       "</div>"
      ],
      "text/plain": [
       "  CountyCode DistrictCode SchoolCode      CountyName DistrictName SchoolName  \\\n",
       "0         01        00000    0000000  Alameda County                           \n",
       "1         01        00000    0000000  Alameda County                           \n",
       "2         01        00000    0000000  Alameda County                           \n",
       "3         01        00000    0000000  Alameda County                           \n",
       "4         01        00000    0000000  Alameda County                           \n",
       "\n",
       "  RecordType                        SummaryType GradeLevel  \\\n",
       "0     county                       All Students         12   \n",
       "1     county                               Male         12   \n",
       "2     county                             Female         12   \n",
       "3     county  American Indian or Alaskan Native         12   \n",
       "4     county                              Asian         12   \n",
       "\n",
       "   MathGrade10AnswerSheetsProcessed  MathNumberTested  MathPercentPassed  \\\n",
       "0                                 0               188               18.0   \n",
       "1                                 0                87               16.0   \n",
       "2                                 0               101               19.0   \n",
       "3                                 0                 1                NaN   \n",
       "4                                 0                17               29.0   \n",
       "\n",
       "   MathPercentProfAndAbove  ELAGrade10AnswerSheetsProcessed  ELANumberTested  \\\n",
       "0                      0.0                                0              227   \n",
       "1                      0.0                                0              124   \n",
       "2                      0.0                                0              103   \n",
       "3                      NaN                                0                1   \n",
       "4                      0.0                                0               49   \n",
       "\n",
       "   ELAPercentPassed  ELAPercentProfAndAbove  \n",
       "0              22.0                     0.0  \n",
       "1              24.0                     0.0  \n",
       "2              20.0                     0.0  \n",
       "3               NaN                     NaN  \n",
       "4              14.0                     0.0  "
      ]
     },
     "execution_count": 84,
     "metadata": {},
     "output_type": "execute_result"
    }
   ],
   "source": [
    "cahsee_15.head()"
   ]
  },
  {
   "cell_type": "code",
   "execution_count": 85,
   "metadata": {},
   "outputs": [
    {
     "data": {
      "text/plain": [
       "0       0.441715\n",
       "1       0.016478\n",
       "2       0.016456\n",
       "3       0.014155\n",
       "4       0.012739\n",
       "5       0.012427\n",
       "7       0.010443\n",
       "6       0.009926\n",
       "8       0.009867\n",
       "9       0.009210\n",
       "11      0.008696\n",
       "10      0.008507\n",
       "12      0.008260\n",
       "14      0.007701\n",
       "13      0.006924\n",
       "17      0.006514\n",
       "20      0.006205\n",
       "15      0.005930\n",
       "22      0.005575\n",
       "19      0.005361\n",
       "16      0.005269\n",
       "18      0.004874\n",
       "21      0.004447\n",
       "23      0.003615\n",
       "25      0.003570\n",
       "28      0.003517\n",
       "24      0.003393\n",
       "27      0.003307\n",
       "26      0.003209\n",
       "29      0.003082\n",
       "          ...   \n",
       "677     0.000045\n",
       "761     0.000045\n",
       "1037    0.000045\n",
       "1011    0.000045\n",
       "348     0.000045\n",
       "389     0.000045\n",
       "404     0.000045\n",
       "1249    0.000043\n",
       "1256    0.000043\n",
       "303     0.000043\n",
       "903     0.000042\n",
       "758     0.000042\n",
       "742     0.000042\n",
       "1198    0.000042\n",
       "1103    0.000041\n",
       "753     0.000041\n",
       "635     0.000041\n",
       "1126    0.000041\n",
       "1113    0.000041\n",
       "577     0.000039\n",
       "862     0.000039\n",
       "869     0.000039\n",
       "681     0.000038\n",
       "966     0.000038\n",
       "259     0.000038\n",
       "505     0.000036\n",
       "270     0.000035\n",
       "712     0.000035\n",
       "673     0.000032\n",
       "826     0.000025\n",
       "Name: MathGrade10AnswerSheetsProcessed, Length: 1198, dtype: float64"
      ]
     },
     "execution_count": 85,
     "metadata": {},
     "output_type": "execute_result"
    }
   ],
   "source": [
    "cahsee_15.MathGrade10AnswerSheetsProcessed.value_counts(normalize = True)"
   ]
  },
  {
   "cell_type": "markdown",
   "metadata": {},
   "source": [
    "I noticed the Percent Prof and Above columns for both subjects are showing 0% for the first few rows along with the MathGrade10AnswerSheetsProcessed despite having data in the other columns, so I decided to check the frequency of 0's in the math column. This is a good time to explore further and detangle the differences between the columns such as Percent Passed and Percent Prof Above. Consulting this research file https://www.cde.ca.gov/ta/tg/hs/documents/cahsee1415explained.pdf\n",
    "\n",
    "\"<b>Percent Passed</b> – This represents the percentage of students who received\n",
    "a passing score. The percent passed is calculated by dividing the number\n",
    "passed by the number tested and multiplying by 100.\n",
    "\n",
    "<b>Percent Proficient</b> and Above – This represents the percentage of <u>grade\n",
    "ten</u> students who received a performance level of proficient or above (i.e., a\n",
    "scale score of 380 or greater).\"\n",
    "\n",
    "It looks like there's a distinction between all students and grade 10 students, which should be kept in mind when analyzing or visualizing the data. This wasn't made obvious in the provided layout file, but digging around for more information on the data was useful."
   ]
  },
  {
   "cell_type": "markdown",
   "metadata": {},
   "source": [
    "## Visualizations and Exploration\n",
    "\n",
    "For all the below visualizations it's necessary to pick a level of granularity (district, school, county) to avoid double counting data. I'll also be choosing between visualizing grade 10 results, or overall results. There's no 'correct' choice for any of the following visualizations. It depends on what you want to explore! In general I try to follow common principles for data visualization - for example I don't want to make a dense scatter plot where the difference between points is not easy to decipher. Therefore, plotting school level data on a traditional scatter plot will not be my first choice. I could probably tell the same story by using county level data."
   ]
  },
  {
   "cell_type": "markdown",
   "metadata": {},
   "source": [
    "### Checking for outliers\n",
    "\n",
    "Below I see what I'd expect for test scores - means close to 50% with a minimm of 0% and a maximum of 100%."
   ]
  },
  {
   "cell_type": "code",
   "execution_count": 134,
   "metadata": {},
   "outputs": [
    {
     "data": {
      "image/png": "[encoded data removed]",
      "text/plain": [
       "<Figure size 1080x720 with 3 Axes>"
      ]
     },
     "metadata": {},
     "output_type": "display_data"
    }
   ],
   "source": [
    "import seaborn as sns\n",
    "county_level_grade_10 = cahsee_15.loc[(cahsee_15['RecordType'] == 'county') \n",
    "                                      & (cahsee_15['GradeLevel'] == '10'), ['MathPercentProfAndAbove', 'ELAPercentProfAndAbove'] ]\n",
    "district_level_grade_10 = cahsee_15.loc[(cahsee_15['RecordType'] == 'district') \n",
    "                                      & (cahsee_15['GradeLevel'] == '10'), ['MathPercentProfAndAbove', 'ELAPercentProfAndAbove'] ]\n",
    "school_level_grade_10 = cahsee_15.loc[(cahsee_15['RecordType'] == 'school') \n",
    "                                      & (cahsee_15['GradeLevel'] == '10'), ['MathPercentProfAndAbove', 'ELAPercentProfAndAbove'] ]\n",
    "\n",
    "\n",
    "fig, (ax1, ax2,ax3) = plt.subplots(1,3,figsize=(15,10))\n",
    "\n",
    "sns.boxplot(x=\"variable\", y=\"value\", data=pd.melt(county_level_grade_10), ax = ax1).set(\n",
    "    xlabel='subject', \n",
    "    ylabel='Percent Proficient and Above')\n",
    "sns.boxplot(x=\"variable\", y=\"value\", data=pd.melt(district_level_grade_10), ax = ax2).set(\n",
    "    xlabel='subject', \n",
    "    ylabel='Percent Proficient and Above')\n",
    "sns.boxplot(x=\"variable\", y=\"value\", data=pd.melt(school_level_grade_10), ax = ax3).set(\n",
    "    xlabel='subject', \n",
    "    ylabel='Percent Proficient and Above')\n",
    "\n",
    "plt.show()"
   ]
  },
  {
   "cell_type": "markdown",
   "metadata": {},
   "source": [
    "### Comparing overall Male and Female test scores"
   ]
  },
  {
   "cell_type": "code",
   "execution_count": 193,
   "metadata": {},
   "outputs": [
    {
     "name": "stderr",
     "output_type": "stream",
     "text": [
      "/Users/Kimberly/anaconda3/lib/python3.6/site-packages/statsmodels/nonparametric/kde.py:448: RuntimeWarning: invalid value encountered in greater\n",
      "  X = X[np.logical_and(X > clip[0], X < clip[1])] # won't work for two columns.\n",
      "/Users/Kimberly/anaconda3/lib/python3.6/site-packages/statsmodels/nonparametric/kde.py:448: RuntimeWarning: invalid value encountered in less\n",
      "  X = X[np.logical_and(X > clip[0], X < clip[1])] # won't work for two columns.\n"
     ]
    },
    {
     "data": {
      "text/plain": [
       "<matplotlib.axes._subplots.AxesSubplot at 0x1380271d0>"
      ]
     },
     "execution_count": 193,
     "metadata": {},
     "output_type": "execute_result"
    },
    {
     "data": {
      "image/png": "[encoded data removed]",
      "text/plain": [
       "<Figure size 1080x432 with 2 Axes>"
      ]
     },
     "metadata": {},
     "output_type": "display_data"
    }
   ],
   "source": [
    "#gender_filter = cahsee_15.loc[cahsee_15['SummaryType'].isin(['Female', 'Male'])]\n",
    "female = cahsee_15.loc[(cahsee_15['RecordType'] == 'school') \n",
    "                                      & (cahsee_15['SummaryType'] == 'Female')\n",
    "                                      & (cahsee_15['GradeLevel'] == '10'), ['MathPercentProfAndAbove', 'ELAPercentProfAndAbove']]\n",
    "male = cahsee_15.loc[(cahsee_15['RecordType'] == 'school') \n",
    "                                      & (cahsee_15['SummaryType'] == 'Male')\n",
    "                                      & (cahsee_15['GradeLevel'] == '10'), ['MathPercentProfAndAbove', 'ELAPercentProfAndAbove']]\n",
    "\n",
    "fig, (ax1, ax2) = plt.subplots(1,2,figsize=(15,6))\n",
    "\n",
    "sns.kdeplot(female['MathPercentProfAndAbove'], ax = ax1, label = 'Female', color = 'pink')\n",
    "sns.kdeplot(male['MathPercentProfAndAbove'], ax = ax1, label = 'Male', color = 'green')\n",
    "sns.kdeplot(female['ELAPercentProfAndAbove'], ax = ax2, label = 'Female', color = 'pink')\n",
    "sns.kdeplot(male['ELAPercentProfAndAbove'], ax = ax2, label = 'Male', color = 'green')\n"
   ]
  },
  {
   "cell_type": "markdown",
   "metadata": {},
   "source": [
    "## Geographic Data\n",
    "\n",
    "Next I'll incorporate a dataset I found from CDE containing geographic information for public schools. After examining the columns in both files I'll try to join the two by combining the county, district, and school code in the data file to match the CDS code."
   ]
  },
  {
   "cell_type": "code",
   "execution_count": 195,
   "metadata": {},
   "outputs": [
    {
     "data": {
      "text/plain": [
       "array(['CDSCode', 'NCESDist', 'NCESSchool', 'StatusType', 'County',\n",
       "       'District', 'School', 'Street', 'StreetAbr', 'City', 'Zip',\n",
       "       'State', 'MailStreet', 'MailStrAbr', 'MailCity', 'MailZip',\n",
       "       'MailState', 'Phone', 'Ext', 'WebSite', 'OpenDate', 'ClosedDate',\n",
       "       'Charter', 'CharterNum', 'FundingType', 'DOC', 'DOCType', 'SOC',\n",
       "       'SOCType', 'EdOpsCode', 'EdOpsName', 'EILCode', 'EILName',\n",
       "       'GSoffered', 'GSserved', 'Virtual', 'Magnet', 'Latitude',\n",
       "       'Longitude', 'AdmFName1', 'AdmLName1', 'AdmEmail1', 'AdmFName2',\n",
       "       'AdmLName2', 'AdmEmail2', 'AdmFName3', 'AdmLName3', 'AdmEmail3',\n",
       "       'LastUpDate'], dtype=object)"
      ]
     },
     "execution_count": 195,
     "metadata": {},
     "output_type": "execute_result"
    }
   ],
   "source": [
    "ca_directory = pd.read_table(\"./data/pubschls.txt\", sep = \"\\t\", dtype = {\"CDSCode\" : object, \"NCESDist\": object, \"NCESSchool\": object} )\n",
    "ca_directory.columns.values"
   ]
  },
  {
   "cell_type": "code",
   "execution_count": 196,
   "metadata": {},
   "outputs": [
    {
     "data": {
      "text/plain": [
       "array([ True])"
      ]
     },
     "execution_count": 196,
     "metadata": {},
     "output_type": "execute_result"
    }
   ],
   "source": [
    "cahsee_15['CDSCode'] = cahsee_15['CountyCode'] + cahsee_15['DistrictCode'] + cahsee_15['SchoolCode']\n",
    "cahsee_15.loc[cahsee_15['SchoolName'] == 'Alameda High', 'CDSCode'].unique() == ca_directory.loc[ca_directory['School'] == 'Alameda High', 'CDSCode'].unique()"
   ]
  },
  {
   "cell_type": "code",
   "execution_count": 201,
   "metadata": {},
   "outputs": [],
   "source": [
    "geo_cahsee_15 = pd.merge(cahsee_15, ca_directory.loc[:, ['CDSCode', 'Street', 'City', 'Zip','Latitude', 'Longitude']], \n",
    "                left_on = 'CDSCode', right_on = 'CDSCode', how = 'inner')"
   ]
  },
  {
   "cell_type": "markdown",
   "metadata": {},
   "source": [
    "Now I'll move on to plotting the test scores on a map. Similar to previous visualizations I need to limit the data to one level - displaying county, district, or school level data to avoid duplicated data. I'm not performing an indepth analysis, but I am curious about the location of scores in relation to high income and metropolitan areas. In a future project pulling this data in could be interesting. For this visualization I'll use the school data to aggregate by city."
   ]
  },
  {
   "cell_type": "code",
   "execution_count": 203,
   "metadata": {},
   "outputs": [],
   "source": [
    "data = geo_cahsee_15.loc[(cahsee_15['RecordType'] == 'school') \n",
    "                                      & (cahsee_15['GradeLevel'] == '10')]"
   ]
  },
  {
   "cell_type": "code",
   "execution_count": 204,
   "metadata": {},
   "outputs": [
    {
     "data": {
      "text/html": [
       "<div>\n",
       "<style scoped>\n",
       "    .dataframe tbody tr th:only-of-type {\n",
       "        vertical-align: middle;\n",
       "    }\n",
       "\n",
       "    .dataframe tbody tr th {\n",
       "        vertical-align: top;\n",
       "    }\n",
       "\n",
       "    .dataframe thead th {\n",
       "        text-align: right;\n",
       "    }\n",
       "</style>\n",
       "<table border=\"1\" class=\"dataframe\">\n",
       "  <thead>\n",
       "    <tr style=\"text-align: right;\">\n",
       "      <th></th>\n",
       "      <th>City</th>\n",
       "      <th>MathPercentPassed</th>\n",
       "      <th>MathPercentProfAndAbove</th>\n",
       "      <th>ELAPercentPassed</th>\n",
       "      <th>ELAPercentProfAndAbove</th>\n",
       "      <th>Latitude</th>\n",
       "      <th>Longitude</th>\n",
       "      <th>CDSCode</th>\n",
       "    </tr>\n",
       "  </thead>\n",
       "  <tbody>\n",
       "    <tr>\n",
       "      <th>0</th>\n",
       "      <td>Acton</td>\n",
       "      <td>86.428571</td>\n",
       "      <td>30.000000</td>\n",
       "      <td>77.285714</td>\n",
       "      <td>35.428571</td>\n",
       "      <td>34.482984</td>\n",
       "      <td>-118.206185</td>\n",
       "      <td>3</td>\n",
       "    </tr>\n",
       "    <tr>\n",
       "      <th>1</th>\n",
       "      <td>Adelanto</td>\n",
       "      <td>40.875000</td>\n",
       "      <td>14.500000</td>\n",
       "      <td>49.312500</td>\n",
       "      <td>17.250000</td>\n",
       "      <td>34.531124</td>\n",
       "      <td>-117.441300</td>\n",
       "      <td>1</td>\n",
       "    </tr>\n",
       "    <tr>\n",
       "      <th>2</th>\n",
       "      <td>Agoura</td>\n",
       "      <td>68.833333</td>\n",
       "      <td>0.000000</td>\n",
       "      <td>66.500000</td>\n",
       "      <td>0.000000</td>\n",
       "      <td>34.151016</td>\n",
       "      <td>-118.749432</td>\n",
       "      <td>2</td>\n",
       "    </tr>\n",
       "    <tr>\n",
       "      <th>3</th>\n",
       "      <td>Alameda</td>\n",
       "      <td>80.556338</td>\n",
       "      <td>35.774648</td>\n",
       "      <td>78.099291</td>\n",
       "      <td>34.283688</td>\n",
       "      <td>37.775425</td>\n",
       "      <td>-122.277664</td>\n",
       "      <td>7</td>\n",
       "    </tr>\n",
       "    <tr>\n",
       "      <th>4</th>\n",
       "      <td>Alhambra</td>\n",
       "      <td>27.000000</td>\n",
       "      <td>0.000000</td>\n",
       "      <td>NaN</td>\n",
       "      <td>NaN</td>\n",
       "      <td>34.091236</td>\n",
       "      <td>-118.141940</td>\n",
       "      <td>1</td>\n",
       "    </tr>\n",
       "  </tbody>\n",
       "</table>\n",
       "</div>"
      ],
      "text/plain": [
       "       City  MathPercentPassed  MathPercentProfAndAbove  ELAPercentPassed  \\\n",
       "0     Acton          86.428571                30.000000         77.285714   \n",
       "1  Adelanto          40.875000                14.500000         49.312500   \n",
       "2    Agoura          68.833333                 0.000000         66.500000   \n",
       "3   Alameda          80.556338                35.774648         78.099291   \n",
       "4  Alhambra          27.000000                 0.000000               NaN   \n",
       "\n",
       "   ELAPercentProfAndAbove   Latitude   Longitude  CDSCode  \n",
       "0               35.428571  34.482984 -118.206185        3  \n",
       "1               17.250000  34.531124 -117.441300        1  \n",
       "2                0.000000  34.151016 -118.749432        2  \n",
       "3               34.283688  37.775425 -122.277664        7  \n",
       "4                     NaN  34.091236 -118.141940        1  "
      ]
     },
     "execution_count": 204,
     "metadata": {},
     "output_type": "execute_result"
    }
   ],
   "source": [
    "df = data.groupby('City').agg({'MathPercentPassed':'mean', 'MathPercentProfAndAbove':'mean',\n",
    "                                        'ELAPercentPassed': 'mean', 'ELAPercentProfAndAbove': 'mean',\n",
    "                                       'Latitude': 'mean', 'Longitude': 'mean', 'CDSCode': 'nunique'})[['MathPercentPassed','MathPercentProfAndAbove',\n",
    "                                                                                 'ELAPercentPassed', 'ELAPercentProfAndAbove',\n",
    "                                                                                 'Latitude', 'Longitude', 'CDSCode']].reset_index()\n",
    "df.head()"
   ]
  },
  {
   "cell_type": "markdown",
   "metadata": {},
   "source": [
    "### Matplotlib\n",
    "\n",
    "I'm most familiar with matplotlib, so I'll start off using this library. The issue with this approach is that the latitude and longitude is not directly tied to the background image. This means the location of the points are not 100% accurate. I attempted to fix the extent by examining the minimum and maximum lat and lon. I personally wouldn't use this approach in practice, but it was fun to try. Tableau makes really cool dashboards using geographical data. "
   ]
  },
  {
   "cell_type": "code",
   "execution_count": 213,
   "metadata": {},
   "outputs": [
    {
     "data": {
      "image/png": "[encoded data removed]",
      "text/plain": [
       "<Figure size 720x648 with 2 Axes>"
      ]
     },
     "metadata": {},
     "output_type": "display_data"
    }
   ],
   "source": [
    "img=mpimg.imread('california.png')\n",
    "\n",
    "ax = df.plot(x='Longitude', y='Latitude', kind='scatter', alpha=0.6, \n",
    "         c= 'MathPercentProfAndAbove', cmap=plt.get_cmap(\"Reds\"), colorbar=True, \n",
    "         zorder=1, figsize=(10,9) )\n",
    "\n",
    "plt.imshow(img,aspect = 'auto',\n",
    "          extent = [-124.5, -114.12, 32.51, 42.0])\n",
    "\n",
    "plt.show()"
   ]
  },
  {
   "cell_type": "markdown",
   "metadata": {},
   "source": [
    "### Bokeh"
   ]
  },
  {
   "cell_type": "code",
   "execution_count": 242,
   "metadata": {},
   "outputs": [],
   "source": [
    "import bokeh.plotting as bplt\n",
    "from bokeh.tile_providers import CARTODBPOSITRON\n",
    "from bokeh.palettes import Inferno256\n",
    "from bokeh.models import LogColorMapper, BasicTicker, ColorBar, LinearColorMapper, ColumnDataSource\n",
    "from bokeh.palettes import Inferno256 as palette\n"
   ]
  },
  {
   "cell_type": "markdown",
   "metadata": {},
   "source": [
    "TODO: Possibly scores in bins or percentiles for better visualization or switch to county. Talk about geo data. Used this resource. \n",
    "https://gis.stackexchange.com/questions/247871/convert-gps-coordinates-to-web-mercator-epsg3857-using-python-pyproj\n",
    "https://bokeh.pydata.org/en/latest/docs/user_guide/geo.html\n",
    "https://towardsdatascience.com/exploring-and-visualizing-chicago-transit-data-using-pandas-and-bokeh-part-ii-intro-to-bokeh-5dca6c5ced10"
   ]
  },
  {
   "cell_type": "code",
   "execution_count": 243,
   "metadata": {},
   "outputs": [
    {
     "data": {
      "text/html": [
       "\n",
       "    <div class=\"bk-root\">\n",
       "        <a href=\"https://bokeh.pydata.org\" target=\"_blank\" class=\"bk-logo bk-logo-small bk-logo-notebook\"></a>\n",
       "        <span id=\"0821f134-7428-4923-94c1-e2bf5bdf7d07\">Loading BokehJS ...</span>\n",
       "    </div>"
      ]
     },
     "metadata": {},
     "output_type": "display_data"
    },
    {
     "data": {
      "application/javascript": [
       "\n",
       "(function(root) {\n",
       "  function now() {\n",
       "    return new Date();\n",
       "  }\n",
       "\n",
       "  var force = true;\n",
       "\n",
       "  if (typeof (root._bokeh_onload_callbacks) === \"undefined\" || force === true) {\n",
       "    root._bokeh_onload_callbacks = [];\n",
       "    root._bokeh_is_loading = undefined;\n",
       "  }\n",
       "\n",
       "  var JS_MIME_TYPE = 'application/javascript';\n",
       "  var HTML_MIME_TYPE = 'text/html';\n",
       "  var EXEC_MIME_TYPE = 'application/vnd.bokehjs_exec.v0+json';\n",
       "  var CLASS_NAME = 'output_bokeh rendered_html';\n",
       "\n",
       "  /**\n",
       "   * Render data to the DOM node\n",
       "   */\n",
       "  function render(props, node) {\n",
       "    var script = document.createElement(\"script\");\n",
       "    node.appendChild(script);\n",
       "  }\n",
       "\n",
       "  /**\n",
       "   * Handle when an output is cleared or removed\n",
       "   */\n",
       "  function handleClearOutput(event, handle) {\n",
       "    var cell = handle.cell;\n",
       "\n",
       "    var id = cell.output_area._bokeh_element_id;\n",
       "    var server_id = cell.output_area._bokeh_server_id;\n",
       "    // Clean up Bokeh references\n",
       "    if (id !== undefined) {\n",
       "      Bokeh.index[id].model.document.clear();\n",
       "      delete Bokeh.index[id];\n",
       "    }\n",
       "\n",
       "    if (server_id !== undefined) {\n",
       "      // Clean up Bokeh references\n",
       "      var cmd = \"from bokeh.io.state import curstate; print(curstate().uuid_to_server['\" + server_id + \"'].get_sessions()[0].document.roots[0]._id)\";\n",
       "      cell.notebook.kernel.execute(cmd, {\n",
       "        iopub: {\n",
       "          output: function(msg) {\n",
       "            var element_id = msg.content.text.trim();\n",
       "            Bokeh.index[element_id].model.document.clear();\n",
       "            delete Bokeh.index[element_id];\n",
       "          }\n",
       "        }\n",
       "      });\n",
       "      // Destroy server and session\n",
       "      var cmd = \"import bokeh.io.notebook as ion; ion.destroy_server('\" + server_id + \"')\";\n",
       "      cell.notebook.kernel.execute(cmd);\n",
       "    }\n",
       "  }\n",
       "\n",
       "  /**\n",
       "   * Handle when a new output is added\n",
       "   */\n",
       "  function handleAddOutput(event, handle) {\n",
       "    var output_area = handle.output_area;\n",
       "    var output = handle.output;\n",
       "\n",
       "    // limit handleAddOutput to display_data with EXEC_MIME_TYPE content only\n",
       "    if ((output.output_type != \"display_data\") || (!output.data.hasOwnProperty(EXEC_MIME_TYPE))) {\n",
       "      return\n",
       "    }\n",
       "\n",
       "    var toinsert = output_area.element.find(\".\" + CLASS_NAME.split(' ')[0]);\n",
       "\n",
       "    if (output.metadata[EXEC_MIME_TYPE][\"id\"] !== undefined) {\n",
       "      toinsert[toinsert.length - 1].firstChild.textContent = output.data[JS_MIME_TYPE];\n",
       "      // store reference to embed id on output_area\n",
       "      output_area._bokeh_element_id = output.metadata[EXEC_MIME_TYPE][\"id\"];\n",
       "    }\n",
       "    if (output.metadata[EXEC_MIME_TYPE][\"server_id\"] !== undefined) {\n",
       "      var bk_div = document.createElement(\"div\");\n",
       "      bk_div.innerHTML = output.data[HTML_MIME_TYPE];\n",
       "      var script_attrs = bk_div.children[0].attributes;\n",
       "      for (var i = 0; i < script_attrs.length; i++) {\n",
       "        toinsert[toinsert.length - 1].firstChild.setAttribute(script_attrs[i].name, script_attrs[i].value);\n",
       "      }\n",
       "      // store reference to server id on output_area\n",
       "      output_area._bokeh_server_id = output.metadata[EXEC_MIME_TYPE][\"server_id\"];\n",
       "    }\n",
       "  }\n",
       "\n",
       "  function register_renderer(events, OutputArea) {\n",
       "\n",
       "    function append_mime(data, metadata, element) {\n",
       "      // create a DOM node to render to\n",
       "      var toinsert = this.create_output_subarea(\n",
       "        metadata,\n",
       "        CLASS_NAME,\n",
       "        EXEC_MIME_TYPE\n",
       "      );\n",
       "      this.keyboard_manager.register_events(toinsert);\n",
       "      // Render to node\n",
       "      var props = {data: data, metadata: metadata[EXEC_MIME_TYPE]};\n",
       "      render(props, toinsert[toinsert.length - 1]);\n",
       "      element.append(toinsert);\n",
       "      return toinsert\n",
       "    }\n",
       "\n",
       "    /* Handle when an output is cleared or removed */\n",
       "    events.on('clear_output.CodeCell', handleClearOutput);\n",
       "    events.on('delete.Cell', handleClearOutput);\n",
       "\n",
       "    /* Handle when a new output is added */\n",
       "    events.on('output_added.OutputArea', handleAddOutput);\n",
       "\n",
       "    /**\n",
       "     * Register the mime type and append_mime function with output_area\n",
       "     */\n",
       "    OutputArea.prototype.register_mime_type(EXEC_MIME_TYPE, append_mime, {\n",
       "      /* Is output safe? */\n",
       "      safe: true,\n",
       "      /* Index of renderer in `output_area.display_order` */\n",
       "      index: 0\n",
       "    });\n",
       "  }\n",
       "\n",
       "  // register the mime type if in Jupyter Notebook environment and previously unregistered\n",
       "  if (root.Jupyter !== undefined) {\n",
       "    var events = require('base/js/events');\n",
       "    var OutputArea = require('notebook/js/outputarea').OutputArea;\n",
       "\n",
       "    if (OutputArea.prototype.mime_types().indexOf(EXEC_MIME_TYPE) == -1) {\n",
       "      register_renderer(events, OutputArea);\n",
       "    }\n",
       "  }\n",
       "\n",
       "  \n",
       "  if (typeof (root._bokeh_timeout) === \"undefined\" || force === true) {\n",
       "    root._bokeh_timeout = Date.now() + 5000;\n",
       "    root._bokeh_failed_load = false;\n",
       "  }\n",
       "\n",
       "  var NB_LOAD_WARNING = {'data': {'text/html':\n",
       "     \"<div style='background-color: #fdd'>\\n\"+\n",
       "     \"<p>\\n\"+\n",
       "     \"BokehJS does not appear to have successfully loaded. If loading BokehJS from CDN, this \\n\"+\n",
       "     \"may be due to a slow or bad network connection. Possible fixes:\\n\"+\n",
       "     \"</p>\\n\"+\n",
       "     \"<ul>\\n\"+\n",
       "     \"<li>re-rerun `output_notebook()` to attempt to load from CDN again, or</li>\\n\"+\n",
       "     \"<li>use INLINE resources instead, as so:</li>\\n\"+\n",
       "     \"</ul>\\n\"+\n",
       "     \"<code>\\n\"+\n",
       "     \"from bokeh.resources import INLINE\\n\"+\n",
       "     \"output_notebook(resources=INLINE)\\n\"+\n",
       "     \"</code>\\n\"+\n",
       "     \"</div>\"}};\n",
       "\n",
       "  function display_loaded() {\n",
       "    var el = document.getElementById(\"0821f134-7428-4923-94c1-e2bf5bdf7d07\");\n",
       "    if (el != null) {\n",
       "      el.textContent = \"BokehJS is loading...\";\n",
       "    }\n",
       "    if (root.Bokeh !== undefined) {\n",
       "      if (el != null) {\n",
       "        el.textContent = \"BokehJS \" + root.Bokeh.version + \" successfully loaded.\";\n",
       "      }\n",
       "    } else if (Date.now() < root._bokeh_timeout) {\n",
       "      setTimeout(display_loaded, 100)\n",
       "    }\n",
       "  }\n",
       "\n",
       "\n",
       "  function run_callbacks() {\n",
       "    try {\n",
       "      root._bokeh_onload_callbacks.forEach(function(callback) { callback() });\n",
       "    }\n",
       "    finally {\n",
       "      delete root._bokeh_onload_callbacks\n",
       "    }\n",
       "    console.info(\"Bokeh: all callbacks have finished\");\n",
       "  }\n",
       "\n",
       "  function load_libs(js_urls, callback) {\n",
       "    root._bokeh_onload_callbacks.push(callback);\n",
       "    if (root._bokeh_is_loading > 0) {\n",
       "      console.log(\"Bokeh: BokehJS is being loaded, scheduling callback at\", now());\n",
       "      return null;\n",
       "    }\n",
       "    if (js_urls == null || js_urls.length === 0) {\n",
       "      run_callbacks();\n",
       "      return null;\n",
       "    }\n",
       "    console.log(\"Bokeh: BokehJS not loaded, scheduling load and callback at\", now());\n",
       "    root._bokeh_is_loading = js_urls.length;\n",
       "    for (var i = 0; i < js_urls.length; i++) {\n",
       "      var url = js_urls[i];\n",
       "      var s = document.createElement('script');\n",
       "      s.src = url;\n",
       "      s.async = false;\n",
       "      s.onreadystatechange = s.onload = function() {\n",
       "        root._bokeh_is_loading--;\n",
       "        if (root._bokeh_is_loading === 0) {\n",
       "          console.log(\"Bokeh: all BokehJS libraries loaded\");\n",
       "          run_callbacks()\n",
       "        }\n",
       "      };\n",
       "      s.onerror = function() {\n",
       "        console.warn(\"failed to load library \" + url);\n",
       "      };\n",
       "      console.log(\"Bokeh: injecting script tag for BokehJS library: \", url);\n",
       "      document.getElementsByTagName(\"head\")[0].appendChild(s);\n",
       "    }\n",
       "  };var element = document.getElementById(\"0821f134-7428-4923-94c1-e2bf5bdf7d07\");\n",
       "  if (element == null) {\n",
       "    console.log(\"Bokeh: ERROR: autoload.js configured with elementid '0821f134-7428-4923-94c1-e2bf5bdf7d07' but no matching script tag was found. \")\n",
       "    return false;\n",
       "  }\n",
       "\n",
       "  var js_urls = [\"https://cdn.pydata.org/bokeh/release/bokeh-0.12.16.min.js\", \"https://cdn.pydata.org/bokeh/release/bokeh-widgets-0.12.16.min.js\", \"https://cdn.pydata.org/bokeh/release/bokeh-tables-0.12.16.min.js\", \"https://cdn.pydata.org/bokeh/release/bokeh-gl-0.12.16.min.js\"];\n",
       "\n",
       "  var inline_js = [\n",
       "    function(Bokeh) {\n",
       "      Bokeh.set_log_level(\"info\");\n",
       "    },\n",
       "    \n",
       "    function(Bokeh) {\n",
       "      \n",
       "    },\n",
       "    function(Bokeh) {\n",
       "      console.log(\"Bokeh: injecting CSS: https://cdn.pydata.org/bokeh/release/bokeh-0.12.16.min.css\");\n",
       "      Bokeh.embed.inject_css(\"https://cdn.pydata.org/bokeh/release/bokeh-0.12.16.min.css\");\n",
       "      console.log(\"Bokeh: injecting CSS: https://cdn.pydata.org/bokeh/release/bokeh-widgets-0.12.16.min.css\");\n",
       "      Bokeh.embed.inject_css(\"https://cdn.pydata.org/bokeh/release/bokeh-widgets-0.12.16.min.css\");\n",
       "      console.log(\"Bokeh: injecting CSS: https://cdn.pydata.org/bokeh/release/bokeh-tables-0.12.16.min.css\");\n",
       "      Bokeh.embed.inject_css(\"https://cdn.pydata.org/bokeh/release/bokeh-tables-0.12.16.min.css\");\n",
       "    }\n",
       "  ];\n",
       "\n",
       "  function run_inline_js() {\n",
       "    \n",
       "    if ((root.Bokeh !== undefined) || (force === true)) {\n",
       "      for (var i = 0; i < inline_js.length; i++) {\n",
       "        inline_js[i].call(root, root.Bokeh);\n",
       "      }if (force === true) {\n",
       "        display_loaded();\n",
       "      }} else if (Date.now() < root._bokeh_timeout) {\n",
       "      setTimeout(run_inline_js, 100);\n",
       "    } else if (!root._bokeh_failed_load) {\n",
       "      console.log(\"Bokeh: BokehJS failed to load within specified timeout.\");\n",
       "      root._bokeh_failed_load = true;\n",
       "    } else if (force !== true) {\n",
       "      var cell = $(document.getElementById(\"0821f134-7428-4923-94c1-e2bf5bdf7d07\")).parents('.cell').data().cell;\n",
       "      cell.output_area.append_execute_result(NB_LOAD_WARNING)\n",
       "    }\n",
       "\n",
       "  }\n",
       "\n",
       "  if (root._bokeh_is_loading === 0) {\n",
       "    console.log(\"Bokeh: BokehJS loaded, going straight to plotting\");\n",
       "    run_inline_js();\n",
       "  } else {\n",
       "    load_libs(js_urls, function() {\n",
       "      console.log(\"Bokeh: BokehJS plotting callback run at\", now());\n",
       "      run_inline_js();\n",
       "    });\n",
       "  }\n",
       "}(window));"
      ],
      "application/vnd.bokehjs_load.v0+json": "\n(function(root) {\n  function now() {\n    return new Date();\n  }\n\n  var force = true;\n\n  if (typeof (root._bokeh_onload_callbacks) === \"undefined\" || force === true) {\n    root._bokeh_onload_callbacks = [];\n    root._bokeh_is_loading = undefined;\n  }\n\n  \n\n  \n  if (typeof (root._bokeh_timeout) === \"undefined\" || force === true) {\n    root._bokeh_timeout = Date.now() + 5000;\n    root._bokeh_failed_load = false;\n  }\n\n  var NB_LOAD_WARNING = {'data': {'text/html':\n     \"<div style='background-color: #fdd'>\\n\"+\n     \"<p>\\n\"+\n     \"BokehJS does not appear to have successfully loaded. If loading BokehJS from CDN, this \\n\"+\n     \"may be due to a slow or bad network connection. Possible fixes:\\n\"+\n     \"</p>\\n\"+\n     \"<ul>\\n\"+\n     \"<li>re-rerun `output_notebook()` to attempt to load from CDN again, or</li>\\n\"+\n     \"<li>use INLINE resources instead, as so:</li>\\n\"+\n     \"</ul>\\n\"+\n     \"<code>\\n\"+\n     \"from bokeh.resources import INLINE\\n\"+\n     \"output_notebook(resources=INLINE)\\n\"+\n     \"</code>\\n\"+\n     \"</div>\"}};\n\n  function display_loaded() {\n    var el = document.getElementById(\"0821f134-7428-4923-94c1-e2bf5bdf7d07\");\n    if (el != null) {\n      el.textContent = \"BokehJS is loading...\";\n    }\n    if (root.Bokeh !== undefined) {\n      if (el != null) {\n        el.textContent = \"BokehJS \" + root.Bokeh.version + \" successfully loaded.\";\n      }\n    } else if (Date.now() < root._bokeh_timeout) {\n      setTimeout(display_loaded, 100)\n    }\n  }\n\n\n  function run_callbacks() {\n    try {\n      root._bokeh_onload_callbacks.forEach(function(callback) { callback() });\n    }\n    finally {\n      delete root._bokeh_onload_callbacks\n    }\n    console.info(\"Bokeh: all callbacks have finished\");\n  }\n\n  function load_libs(js_urls, callback) {\n    root._bokeh_onload_callbacks.push(callback);\n    if (root._bokeh_is_loading > 0) {\n      console.log(\"Bokeh: BokehJS is being loaded, scheduling callback at\", now());\n      return null;\n    }\n    if (js_urls == null || js_urls.length === 0) {\n      run_callbacks();\n      return null;\n    }\n    console.log(\"Bokeh: BokehJS not loaded, scheduling load and callback at\", now());\n    root._bokeh_is_loading = js_urls.length;\n    for (var i = 0; i < js_urls.length; i++) {\n      var url = js_urls[i];\n      var s = document.createElement('script');\n      s.src = url;\n      s.async = false;\n      s.onreadystatechange = s.onload = function() {\n        root._bokeh_is_loading--;\n        if (root._bokeh_is_loading === 0) {\n          console.log(\"Bokeh: all BokehJS libraries loaded\");\n          run_callbacks()\n        }\n      };\n      s.onerror = function() {\n        console.warn(\"failed to load library \" + url);\n      };\n      console.log(\"Bokeh: injecting script tag for BokehJS library: \", url);\n      document.getElementsByTagName(\"head\")[0].appendChild(s);\n    }\n  };var element = document.getElementById(\"0821f134-7428-4923-94c1-e2bf5bdf7d07\");\n  if (element == null) {\n    console.log(\"Bokeh: ERROR: autoload.js configured with elementid '0821f134-7428-4923-94c1-e2bf5bdf7d07' but no matching script tag was found. \")\n    return false;\n  }\n\n  var js_urls = [\"https://cdn.pydata.org/bokeh/release/bokeh-0.12.16.min.js\", \"https://cdn.pydata.org/bokeh/release/bokeh-widgets-0.12.16.min.js\", \"https://cdn.pydata.org/bokeh/release/bokeh-tables-0.12.16.min.js\", \"https://cdn.pydata.org/bokeh/release/bokeh-gl-0.12.16.min.js\"];\n\n  var inline_js = [\n    function(Bokeh) {\n      Bokeh.set_log_level(\"info\");\n    },\n    \n    function(Bokeh) {\n      \n    },\n    function(Bokeh) {\n      console.log(\"Bokeh: injecting CSS: https://cdn.pydata.org/bokeh/release/bokeh-0.12.16.min.css\");\n      Bokeh.embed.inject_css(\"https://cdn.pydata.org/bokeh/release/bokeh-0.12.16.min.css\");\n      console.log(\"Bokeh: injecting CSS: https://cdn.pydata.org/bokeh/release/bokeh-widgets-0.12.16.min.css\");\n      Bokeh.embed.inject_css(\"https://cdn.pydata.org/bokeh/release/bokeh-widgets-0.12.16.min.css\");\n      console.log(\"Bokeh: injecting CSS: https://cdn.pydata.org/bokeh/release/bokeh-tables-0.12.16.min.css\");\n      Bokeh.embed.inject_css(\"https://cdn.pydata.org/bokeh/release/bokeh-tables-0.12.16.min.css\");\n    }\n  ];\n\n  function run_inline_js() {\n    \n    if ((root.Bokeh !== undefined) || (force === true)) {\n      for (var i = 0; i < inline_js.length; i++) {\n        inline_js[i].call(root, root.Bokeh);\n      }if (force === true) {\n        display_loaded();\n      }} else if (Date.now() < root._bokeh_timeout) {\n      setTimeout(run_inline_js, 100);\n    } else if (!root._bokeh_failed_load) {\n      console.log(\"Bokeh: BokehJS failed to load within specified timeout.\");\n      root._bokeh_failed_load = true;\n    } else if (force !== true) {\n      var cell = $(document.getElementById(\"0821f134-7428-4923-94c1-e2bf5bdf7d07\")).parents('.cell').data().cell;\n      cell.output_area.append_execute_result(NB_LOAD_WARNING)\n    }\n\n  }\n\n  if (root._bokeh_is_loading === 0) {\n    console.log(\"Bokeh: BokehJS loaded, going straight to plotting\");\n    run_inline_js();\n  } else {\n    load_libs(js_urls, function() {\n      console.log(\"Bokeh: BokehJS plotting callback run at\", now());\n      run_inline_js();\n    });\n  }\n}(window));"
     },
     "metadata": {},
     "output_type": "display_data"
    },
    {
     "data": {
      "text/html": [
       "\n",
       "<div class=\"bk-root\">\n",
       "    <div class=\"bk-plotdiv\" id=\"bfa605fe-db6d-4ea0-aa56-17eecbfbc668\"></div>\n",
       "</div>"
      ]
     },
     "metadata": {},
     "output_type": "display_data"
    },
    {
     "data": {
      "application/javascript": [
       "(function(root) {\n",
       "  function embed_document(root) {\n",
       "    \n",
       "  var docs_json = {\"9ecea85b-ca70-40fe-bf51-a56da4925578\":{\"roots\":{\"references\":[{\"attributes\":{\"dimension\":\"lat\"},\"id\":\"c20b0131-e787-41de-9fe7-b54b550d2454\",\"type\":\"MercatorTicker\"},{\"attributes\":{},\"id\":\"c775ed4f-0ef5-496c-b786-917557e0cbab\",\"type\":\"BasicTickFormatter\"},{\"attributes\":{},\"id\":\"c8f5d3ce-a90f-4515-809e-7a934bbbe5f4\",\"type\":\"WheelZoomTool\"},{\"attributes\":{},\"id\":\"1d653b7a-11d2-46af-8ecc-e999f875d81a\",\"type\":\"UnionRenderers\"},{\"attributes\":{\"dimension\":\"lat\"},\"id\":\"4768a2d2-2356-45d0-932b-59cf27cff546\",\"type\":\"MercatorTickFormatter\"},{\"attributes\":{\"bottom_units\":\"screen\",\"fill_alpha\":{\"value\":0.5},\"fill_color\":{\"value\":\"lightgrey\"},\"left_units\":\"screen\",\"level\":\"overlay\",\"line_alpha\":{\"value\":1.0},\"line_color\":{\"value\":\"black\"},\"line_dash\":[4,4],\"line_width\":{\"value\":2},\"plot\":null,\"render_mode\":\"css\",\"right_units\":\"screen\",\"top_units\":\"screen\"},\"id\":\"6a47c8cd-e703-4613-9645-f1b908dbd7d4\",\"type\":\"BoxAnnotation\"},{\"attributes\":{\"formatter\":{\"id\":\"05a86c9c-72f8-4de9-9ffc-abaed6426ec1\",\"type\":\"MercatorTickFormatter\"},\"plot\":{\"id\":\"58a58ebf-ee51-47b7-8a6c-006bf0957a90\",\"subtype\":\"Figure\",\"type\":\"Plot\"},\"ticker\":{\"id\":\"2575ffe4-70da-4d65-98d3-086253ee89f3\",\"type\":\"MercatorTicker\"}},\"id\":\"93ec5f47-9b10-48d8-b841-5f8ef3206bad\",\"type\":\"MercatorAxis\"},{\"attributes\":{\"formatter\":{\"id\":\"4768a2d2-2356-45d0-932b-59cf27cff546\",\"type\":\"MercatorTickFormatter\"},\"plot\":{\"id\":\"58a58ebf-ee51-47b7-8a6c-006bf0957a90\",\"subtype\":\"Figure\",\"type\":\"Plot\"},\"ticker\":{\"id\":\"c20b0131-e787-41de-9fe7-b54b550d2454\",\"type\":\"MercatorTicker\"}},\"id\":\"d2831ab3-b8a1-433e-9967-5f3ca5a0a6d5\",\"type\":\"MercatorAxis\"},{\"attributes\":{},\"id\":\"0b6150a1-647a-4733-a27f-ca446e1a3666\",\"type\":\"HelpTool\"},{\"attributes\":{\"plot\":null,\"text\":\"\"},\"id\":\"e796c63b-3af9-4280-8492-c84d8492a1e2\",\"type\":\"Title\"},{\"attributes\":{\"source\":{\"id\":\"66fee4cd-791d-47f8-b5e3-067c484d2ffb\",\"type\":\"ColumnDataSource\"}},\"id\":\"b1825745-66cd-4b19-96cd-913e5e6be05c\",\"type\":\"CDSView\"},{\"attributes\":{\"overlay\":{\"id\":\"6a47c8cd-e703-4613-9645-f1b908dbd7d4\",\"type\":\"BoxAnnotation\"}},\"id\":\"b56a982d-dfc9-4a4f-ad22-39d82a553ec6\",\"type\":\"BoxZoomTool\"},{\"attributes\":{},\"id\":\"22bd6233-486c-4092-856a-2114965c2223\",\"type\":\"SaveTool\"},{\"attributes\":{},\"id\":\"fab5205d-d333-4490-acb9-1ce0036a3fa4\",\"type\":\"ResetTool\"},{\"attributes\":{\"callback\":null,\"data\":{\"color\":{\"__ndarray__\":\"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\",\"dtype\":\"float64\",\"shape\":[589]},\"lat\":{\"__ndarray__\":\"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\",\"dtype\":\"float64\",\"shape\":[589]},\"lon\":{\"__ndarray__\":\"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\",\"dtype\":\"float64\",\"shape\":[589]}},\"selected\":{\"id\":\"5bdac05f-b027-400d-83e7-0f6d43866e1d\",\"type\":\"Selection\"},\"selection_policy\":{\"id\":\"1d653b7a-11d2-46af-8ecc-e999f875d81a\",\"type\":\"UnionRenderers\"}},\"id\":\"66fee4cd-791d-47f8-b5e3-067c484d2ffb\",\"type\":\"ColumnDataSource\"},{\"attributes\":{},\"id\":\"25e182e3-eab1-4ff8-b95d-087be70f7c15\",\"type\":\"LinearScale\"},{\"attributes\":{\"fill_alpha\":{\"value\":0.1},\"fill_color\":{\"value\":\"#1f77b4\"},\"line_alpha\":{\"value\":0.1},\"line_color\":{\"value\":\"#1f77b4\"},\"x\":{\"field\":\"lat\"},\"y\":{\"field\":\"lon\"}},\"id\":\"57213b29-cd97-4d84-a379-bb239fff6d7f\",\"type\":\"Circle\"},{\"attributes\":{\"dimension\":\"lon\"},\"id\":\"2575ffe4-70da-4d65-98d3-086253ee89f3\",\"type\":\"MercatorTicker\"},{\"attributes\":{\"below\":[{\"id\":\"93ec5f47-9b10-48d8-b841-5f8ef3206bad\",\"type\":\"MercatorAxis\"}],\"left\":[{\"id\":\"d2831ab3-b8a1-433e-9967-5f3ca5a0a6d5\",\"type\":\"MercatorAxis\"}],\"renderers\":[{\"id\":\"93ec5f47-9b10-48d8-b841-5f8ef3206bad\",\"type\":\"MercatorAxis\"},{\"id\":\"86f1b773-6f04-414e-bc4d-f19079ccf2c4\",\"type\":\"Grid\"},{\"id\":\"d2831ab3-b8a1-433e-9967-5f3ca5a0a6d5\",\"type\":\"MercatorAxis\"},{\"id\":\"3fa1b70f-7773-4872-a8ff-33a2b9bdacca\",\"type\":\"Grid\"},{\"id\":\"6a47c8cd-e703-4613-9645-f1b908dbd7d4\",\"type\":\"BoxAnnotation\"},{\"id\":\"1a458308-991b-4809-bc60-bad8d9cd494f\",\"type\":\"TileRenderer\"},{\"id\":\"68a8f207-a185-4cc6-be01-0add01da90f9\",\"type\":\"GlyphRenderer\"},{\"id\":\"d30af0eb-a105-4fa2-974a-45685ddb67c7\",\"type\":\"ColorBar\"}],\"right\":[{\"id\":\"d30af0eb-a105-4fa2-974a-45685ddb67c7\",\"type\":\"ColorBar\"}],\"title\":{\"id\":\"e796c63b-3af9-4280-8492-c84d8492a1e2\",\"type\":\"Title\"},\"toolbar\":{\"id\":\"354562e1-6d5a-487d-95be-d85a051f6c3b\",\"type\":\"Toolbar\"},\"x_range\":{\"id\":\"270acb94-c27f-4a90-9a8d-869d5e3c7295\",\"type\":\"Range1d\"},\"x_scale\":{\"id\":\"412fe32f-8242-4989-8254-2b49c8636be0\",\"type\":\"LinearScale\"},\"y_range\":{\"id\":\"30edb390-8b2d-45ec-b8c9-5947a2449f7b\",\"type\":\"Range1d\"},\"y_scale\":{\"id\":\"25e182e3-eab1-4ff8-b95d-087be70f7c15\",\"type\":\"LinearScale\"}},\"id\":\"58a58ebf-ee51-47b7-8a6c-006bf0957a90\",\"subtype\":\"Figure\",\"type\":\"Plot\"},{\"attributes\":{\"color_mapper\":{\"id\":\"6743b44d-097d-4d39-9654-45c9027c47af\",\"type\":\"LinearColorMapper\"},\"formatter\":{\"id\":\"c775ed4f-0ef5-496c-b786-917557e0cbab\",\"type\":\"BasicTickFormatter\"},\"label_standoff\":12,\"location\":[0,0],\"plot\":{\"id\":\"58a58ebf-ee51-47b7-8a6c-006bf0957a90\",\"subtype\":\"Figure\",\"type\":\"Plot\"},\"ticker\":{\"id\":\"a428f2d9-c78d-4757-8ee6-56b247b26296\",\"type\":\"BasicTicker\"}},\"id\":\"d30af0eb-a105-4fa2-974a-45685ddb67c7\",\"type\":\"ColorBar\"},{\"attributes\":{\"dimension\":1,\"plot\":{\"id\":\"58a58ebf-ee51-47b7-8a6c-006bf0957a90\",\"subtype\":\"Figure\",\"type\":\"Plot\"},\"ticker\":{\"id\":\"c20b0131-e787-41de-9fe7-b54b550d2454\",\"type\":\"MercatorTicker\"}},\"id\":\"3fa1b70f-7773-4872-a8ff-33a2b9bdacca\",\"type\":\"Grid\"},{\"attributes\":{\"active_drag\":\"auto\",\"active_inspect\":\"auto\",\"active_scroll\":\"auto\",\"active_tap\":\"auto\",\"tools\":[{\"id\":\"b647e38b-b584-4f17-8af1-258fc27cfa56\",\"type\":\"PanTool\"},{\"id\":\"c8f5d3ce-a90f-4515-809e-7a934bbbe5f4\",\"type\":\"WheelZoomTool\"},{\"id\":\"b56a982d-dfc9-4a4f-ad22-39d82a553ec6\",\"type\":\"BoxZoomTool\"},{\"id\":\"22bd6233-486c-4092-856a-2114965c2223\",\"type\":\"SaveTool\"},{\"id\":\"fab5205d-d333-4490-acb9-1ce0036a3fa4\",\"type\":\"ResetTool\"},{\"id\":\"0b6150a1-647a-4733-a27f-ca446e1a3666\",\"type\":\"HelpTool\"}]},\"id\":\"354562e1-6d5a-487d-95be-d85a051f6c3b\",\"type\":\"Toolbar\"},{\"attributes\":{},\"id\":\"a428f2d9-c78d-4757-8ee6-56b247b26296\",\"type\":\"BasicTicker\"},{\"attributes\":{\"tile_source\":{\"id\":\"96d589f0-b7f9-4ffb-ac8e-8c29cf5f368c\",\"type\":\"WMTSTileSource\"}},\"id\":\"1a458308-991b-4809-bc60-bad8d9cd494f\",\"type\":\"TileRenderer\"},{\"attributes\":{},\"id\":\"412fe32f-8242-4989-8254-2b49c8636be0\",\"type\":\"LinearScale\"},{\"attributes\":{},\"id\":\"5bdac05f-b027-400d-83e7-0f6d43866e1d\",\"type\":\"Selection\"},{\"attributes\":{\"plot\":{\"id\":\"58a58ebf-ee51-47b7-8a6c-006bf0957a90\",\"subtype\":\"Figure\",\"type\":\"Plot\"},\"ticker\":{\"id\":\"2575ffe4-70da-4d65-98d3-086253ee89f3\",\"type\":\"MercatorTicker\"}},\"id\":\"86f1b773-6f04-414e-bc4d-f19079ccf2c4\",\"type\":\"Grid\"},{\"attributes\":{\"data_source\":{\"id\":\"66fee4cd-791d-47f8-b5e3-067c484d2ffb\",\"type\":\"ColumnDataSource\"},\"glyph\":{\"id\":\"a86853f5-0deb-4edf-a82c-6b295b13a8b5\",\"type\":\"Circle\"},\"hover_glyph\":null,\"muted_glyph\":null,\"nonselection_glyph\":{\"id\":\"57213b29-cd97-4d84-a379-bb239fff6d7f\",\"type\":\"Circle\"},\"selection_glyph\":null,\"view\":{\"id\":\"b1825745-66cd-4b19-96cd-913e5e6be05c\",\"type\":\"CDSView\"}},\"id\":\"68a8f207-a185-4cc6-be01-0add01da90f9\",\"type\":\"GlyphRenderer\"},{\"attributes\":{\"callback\":null,\"end\":5005610.650012367,\"start\":3839715.2421231973},\"id\":\"30edb390-8b2d-45ec-b8c9-5947a2449f7b\",\"type\":\"Range1d\"},{\"attributes\":{\"attribution\":\"&copy; <a href=\\\"https://www.openstreetmap.org/copyright\\\">OpenStreetMap</a> contributors,&copy; <a href=\\\"https://cartodb.com/attributions\\\">CartoDB</a>\",\"url\":\"https://tiles.basemaps.cartocdn.com/light_all/{z}/{x}/{y}.png\"},\"id\":\"96d589f0-b7f9-4ffb-ac8e-8c29cf5f368c\",\"type\":\"WMTSTileSource\"},{\"attributes\":{\"high\":94.55555555555556,\"low\":0.0,\"palette\":[\"#FCFEA4\",\"#FAFDA0\",\"#F9FC9D\",\"#F7FB99\",\"#F6FA95\",\"#F5F891\",\"#F4F78D\",\"#F3F689\",\"#F2F485\",\"#F2F381\",\"#F1F27D\",\"#F1F079\",\"#F1EE74\",\"#F1ED70\",\"#F1EB6C\",\"#F1E968\",\"#F1E864\",\"#F2E660\",\"#F2E45D\",\"#F3E259\",\"#F3E056\",\"#F3DE52\",\"#F4DC4F\",\"#F4DB4B\",\"#F5D948\",\"#F5D745\",\"#F6D542\",\"#F6D33F\",\"#F7D13C\",\"#F7CF3A\",\"#F8CD37\",\"#F8CB34\",\"#F8C931\",\"#F9C72F\",\"#F9C52C\",\"#F9C32A\",\"#FAC128\",\"#FABF25\",\"#FABD23\",\"#FABB21\",\"#FBB91E\",\"#FBB71C\",\"#FBB51A\",\"#FBB318\",\"#FBB116\",\"#FBB014\",\"#FBAE12\",\"#FBAC10\",\"#FBAA0E\",\"#FBA80D\",\"#FBA60B\",\"#FBA40A\",\"#FBA208\",\"#FBA007\",\"#FB9E07\",\"#FB9D06\",\"#FB9B06\",\"#FB9906\",\"#FA9706\",\"#FA9506\",\"#FA9306\",\"#FA9107\",\"#F99008\",\"#F98E08\",\"#F98C09\",\"#F88A0B\",\"#F8880C\",\"#F8870D\",\"#F7850E\",\"#F78310\",\"#F68111\",\"#F68012\",\"#F57E14\",\"#F57C15\",\"#F47A16\",\"#F37918\",\"#F37719\",\"#F2751A\",\"#F2741C\",\"#F1721D\",\"#F0701E\",\"#F06F1F\",\"#EF6D21\",\"#EE6C22\",\"#ED6A23\",\"#ED6825\",\"#EC6726\",\"#EB6527\",\"#EA6428\",\"#E9622A\",\"#E8612B\",\"#E75F2C\",\"#E65E2D\",\"#E65C2E\",\"#E55B30\",\"#E45A31\",\"#E35832\",\"#E25733\",\"#E05634\",\"#DF5436\",\"#DE5337\",\"#DD5238\",\"#DC5039\",\"#DB4F3A\",\"#DA4E3B\",\"#D94D3D\",\"#D74B3E\",\"#D64A3F\",\"#D54940\",\"#D44841\",\"#D24742\",\"#D14643\",\"#D04544\",\"#CF4446\",\"#CD4247\",\"#CC4148\",\"#CB4049\",\"#C93F4A\",\"#C83E4B\",\"#C73E4C\",\"#C53D4D\",\"#C43C4E\",\"#C23B4F\",\"#C13A50\",\"#BF3951\",\"#BE3852\",\"#BD3753\",\"#BB3754\",\"#BA3655\",\"#B83556\",\"#B73456\",\"#B53357\",\"#B43358\",\"#B23259\",\"#B1315A\",\"#AF315B\",\"#AE305B\",\"#AC2F5C\",\"#AB2E5D\",\"#A92E5E\",\"#A72D5F\",\"#A62C5F\",\"#A42C60\",\"#A32B61\",\"#A12B61\",\"#A02A62\",\"#9E2963\",\"#9C2963\",\"#9B2864\",\"#992864\",\"#982765\",\"#962666\",\"#952666\",\"#932567\",\"#912567\",\"#902468\",\"#8E2468\",\"#8D2369\",\"#8B2269\",\"#892269\",\"#88216A\",\"#86216A\",\"#85206A\",\"#83206B\",\"#811F6B\",\"#801F6B\",\"#7E1E6C\",\"#7D1D6C\",\"#7B1D6C\",\"#7A1C6D\",\"#781C6D\",\"#761B6D\",\"#751B6D\",\"#731A6D\",\"#72196D\",\"#70196E\",\"#6E186E\",\"#6D186E\",\"#6B176E\",\"#6A176E\",\"#68166E\",\"#66156E\",\"#65156E\",\"#63146E\",\"#62146E\",\"#60136E\",\"#5F126E\",\"#5D126E\",\"#5B116E\",\"#5A116D\",\"#58106D\",\"#570F6D\",\"#550F6D\",\"#530E6D\",\"#520E6C\",\"#500D6C\",\"#4F0D6C\",\"#4D0C6B\",\"#4B0C6B\",\"#4A0B6A\",\"#480B6A\",\"#460A69\",\"#450A69\",\"#430A68\",\"#410967\",\"#400966\",\"#3E0966\",\"#3C0965\",\"#3B0964\",\"#390962\",\"#370961\",\"#350960\",\"#34095F\",\"#32095D\",\"#300A5C\",\"#2E0A5A\",\"#2D0A58\",\"#2B0A56\",\"#290B54\",\"#270B52\",\"#260B50\",\"#240B4E\",\"#220B4C\",\"#200C4A\",\"#1F0C47\",\"#1D0C45\",\"#1C0C43\",\"#1A0B40\",\"#190B3E\",\"#170B3B\",\"#160B39\",\"#140B36\",\"#130A34\",\"#120A32\",\"#10092F\",\"#0F092D\",\"#0E082A\",\"#0D0828\",\"#0B0726\",\"#0A0723\",\"#090621\",\"#08061F\",\"#07051D\",\"#06041B\",\"#050418\",\"#040316\",\"#040314\",\"#030212\",\"#020210\",\"#02010E\",\"#01010B\",\"#010109\",\"#010007\",\"#000006\",\"#000004\",\"#000003\"]},\"id\":\"6743b44d-097d-4d39-9654-45c9027c47af\",\"type\":\"LinearColorMapper\"},{\"attributes\":{\"dimension\":\"lon\"},\"id\":\"05a86c9c-72f8-4de9-9ffc-abaed6426ec1\",\"type\":\"MercatorTickFormatter\"},{\"attributes\":{\"callback\":null,\"end\":-12757083.708428685,\"start\":-13834002.626572864},\"id\":\"270acb94-c27f-4a90-9a8d-869d5e3c7295\",\"type\":\"Range1d\"},{\"attributes\":{\"fill_alpha\":{\"value\":0.6},\"fill_color\":{\"field\":\"color\",\"transform\":{\"id\":\"6743b44d-097d-4d39-9654-45c9027c47af\",\"type\":\"LinearColorMapper\"}},\"line_color\":{\"value\":null},\"x\":{\"field\":\"lat\"},\"y\":{\"field\":\"lon\"}},\"id\":\"a86853f5-0deb-4edf-a82c-6b295b13a8b5\",\"type\":\"Circle\"},{\"attributes\":{},\"id\":\"b647e38b-b584-4f17-8af1-258fc27cfa56\",\"type\":\"PanTool\"}],\"root_ids\":[\"58a58ebf-ee51-47b7-8a6c-006bf0957a90\"]},\"title\":\"Bokeh Application\",\"version\":\"0.12.16\"}};\n",
       "  var render_items = [{\"docid\":\"9ecea85b-ca70-40fe-bf51-a56da4925578\",\"elementid\":\"bfa605fe-db6d-4ea0-aa56-17eecbfbc668\",\"modelid\":\"58a58ebf-ee51-47b7-8a6c-006bf0957a90\"}];\n",
       "  root.Bokeh.embed.embed_items_notebook(docs_json, render_items);\n",
       "\n",
       "  }\n",
       "  if (root.Bokeh !== undefined) {\n",
       "    embed_document(root);\n",
       "  } else {\n",
       "    var attempts = 0;\n",
       "    var timer = setInterval(function(root) {\n",
       "      if (root.Bokeh !== undefined) {\n",
       "        embed_document(root);\n",
       "        clearInterval(timer);\n",
       "      }\n",
       "      attempts++;\n",
       "      if (attempts > 100) {\n",
       "        console.log(\"Bokeh: ERROR: Unable to run BokehJS code because BokehJS library is missing\")\n",
       "        clearInterval(timer);\n",
       "      }\n",
       "    }, 10, root)\n",
       "  }\n",
       "})(window);"
      ],
      "application/vnd.bokehjs_exec.v0+json": ""
     },
     "metadata": {
      "application/vnd.bokehjs_exec.v0+json": {
       "id": "58a58ebf-ee51-47b7-8a6c-006bf0957a90"
      }
     },
     "output_type": "display_data"
    },
    {
     "data": {
      "text/plain": [
       "'/Users/Kimberly/Documents/ca_pipeline/ca_plot.html'"
      ]
     },
     "execution_count": 243,
     "metadata": {},
     "output_type": "execute_result"
    }
   ],
   "source": [
    "from pyproj import Proj, transform\n",
    "min_lat,max_lat = df.Latitude.min(),df.Latitude.max()\n",
    "min_lon, max_lon = df.Longitude.min(), df.Longitude.max()\n",
    "\n",
    "min_x, min_y = (transform(Proj(init='epsg:4326'), Proj(init='epsg:3857'), min_lon, min_lat)) \n",
    "max_x, max_y = (transform(Proj(init='epsg:4326'), Proj(init='epsg:3857'), max_lon, max_lat))\n",
    "\n",
    "df['coords'] = df.apply(lambda row: (transform(Proj(init='epsg:4326'), Proj(init='epsg:3857'), row['Longitude'], row['Latitude'])), axis=1)\n",
    "df['x'] = df['coords'].apply(lambda x: x[0])\n",
    "df['y'] = df['coords'].apply(lambda x: x[1])\n",
    "\n",
    "source = ColumnDataSource(\n",
    "    data=dict(\n",
    "        lat=df.x,\n",
    "        lon=df.y,\n",
    "        color=df.MathPercentProfAndAbove,\n",
    "    )\n",
    ")\n",
    "\n",
    "p = bplt.figure(x_range=(min_x, max_x), y_range=(min_y, max_y - 150000),\n",
    "           x_axis_type=\"mercator\", y_axis_type=\"mercator\")\n",
    "\n",
    "p.add_tile(CARTODBPOSITRON)\n",
    "\n",
    "color_mapper = LinearColorMapper(palette=palette[::-1], \n",
    "                                 low = df.MathPercentProfAndAbove.min(), high = df.MathPercentProfAndAbove.max())\n",
    "\n",
    "\n",
    "p.circle(x=\"lat\", y=\"lon\", \n",
    "         source=source,\n",
    "         fill_color={'field': 'color', 'transform': color_mapper}, \n",
    "         fill_alpha=0.6, \n",
    "         line_color=None)\n",
    "\n",
    "color_bar = ColorBar(color_mapper=color_mapper,\n",
    "                     label_standoff=12, border_line_color=None, location=(0,0))\n",
    "\n",
    "p.add_layout(color_bar, 'right')\n",
    "\n",
    "bplt.output_notebook()\n",
    "bplt.show(p)\n",
    "\n",
    "bplt.output_file(\"ca_plot.html\")\n",
    "bplt.save(p)\n"
   ]
  }
 ],
 "metadata": {
  "kernelspec": {
   "display_name": "Python 3",
   "language": "python",
   "name": "python3"
  },
  "language_info": {
   "codemirror_mode": {
    "name": "ipython",
    "version": 3
   },
   "file_extension": ".py",
   "mimetype": "text/x-python",
   "name": "python",
   "nbconvert_exporter": "python",
   "pygments_lexer": "ipython3",
   "version": "3.6.5"
  }
 },
 "nbformat": 4,
 "nbformat_minor": 2
}
