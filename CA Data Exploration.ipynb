{
 "cells": [
  {
   "cell_type": "markdown",
   "metadata": {},
   "source": [
    "Some description here in the future! <font color = 'red'> **Still heavily under construction** </font>"
   ]
  },
  {
   "cell_type": "code",
   "execution_count": 44,
   "metadata": {},
   "outputs": [],
   "source": [
    "import boto3\n",
    "import numpy as np\n",
    "import pandas as pd\n",
    "from io import StringIO\n",
    "import matplotlib.pyplot as plt\n",
    "import plotly.plotly as py\n",
    "import plotly.figure_factory as ff"
   ]
  },
  {
   "cell_type": "markdown",
   "metadata": {},
   "source": [
    "Let's connect to S3 and grab the bucket that contains our data: "
   ]
  },
  {
   "cell_type": "code",
   "execution_count": 5,
   "metadata": {},
   "outputs": [],
   "source": [
    "s3 = boto3.client('s3')\n",
    "bucket = 'personproject.b'"
   ]
  },
  {
   "cell_type": "code",
   "execution_count": 12,
   "metadata": {},
   "outputs": [],
   "source": [
    "csv_obj = s3.get_object(Bucket=bucket, Key='cahsee2015.txt')\n",
    "body = csv_obj['Body']\n",
    "csv_string = body.read().decode('utf-8')\n",
    "df = pd.read_csv(StringIO(csv_string), sep = \"\\t\", dtype={\"CountyCode\": object, \"DistrictCode\": object, \"CharterNumber\": object, \"SchoolCode\": object, \"MathTestDate\": object, \"ELATestDate\": object, \n",
    "                                                          \"ELAPercentNotPassed\": float, \"GradeLevel\": object})"
   ]
  },
  {
   "cell_type": "code",
   "execution_count": 13,
   "metadata": {},
   "outputs": [],
   "source": [
    "cahsee_15 = df"
   ]
  },
  {
   "cell_type": "markdown",
   "metadata": {},
   "source": [
    "Record Type: Classifies the level of data \n",
    "04=state, 05=county,06=district,07=school\n",
    "\n",
    "SummaryType: Subgroup"
   ]
  },
  {
   "cell_type": "markdown",
   "metadata": {},
   "source": [
    "I know I do not want to work with all the data, so I'll examine the columns and pick which ones I'm interested in working with."
   ]
  },
  {
   "cell_type": "code",
   "execution_count": 14,
   "metadata": {},
   "outputs": [
    {
     "data": {
      "text/plain": [
       "array(['CountyCode', 'DistrictCode', 'CharterNumber', 'SchoolCode',\n",
       "       'CountyName', 'DistrictName', 'SchoolName', 'RecordType',\n",
       "       'SummaryType', 'Administration', 'MathTestDate',\n",
       "       'MathGrade10AnswerSheetsProcessed', 'MathNumberTested',\n",
       "       'MathNumberPassed', 'MathPercentPassed', 'MathNumberNotPassed',\n",
       "       'MathPercentageNotPassed', 'MathMEanScaleScore',\n",
       "       'MathPSPercentCorrect', 'MathNSPercentCorrect',\n",
       "       'MathAFPercentCorrect', 'MathMGPercentCorrect',\n",
       "       'MathA1PercentCorrect', 'ELATestDate',\n",
       "       'ELAGrade10AnswerSheetsProcessed', 'ELANumberTested',\n",
       "       'ELANumberPassed', 'ELAPercentPassed', 'ELANumberNotPassed',\n",
       "       'ELAPercentNotPassed', 'ELAMeanScaleScore', 'ELAWAPercentCorrect',\n",
       "       'ELARCPercentCorrect', 'ELALRAPercentCorrect',\n",
       "       'ELAWSPercentCorrect', 'ELAWCPercentCorrect', 'ELAES1AvgScore',\n",
       "       'Filler', 'SystemDate', 'GradeLevel', 'MathPercentProfAndAbove',\n",
       "       'ELAPercentProfAndAbove', 'Unnamed: 42'], dtype=object)"
      ]
     },
     "execution_count": 14,
     "metadata": {},
     "output_type": "execute_result"
    }
   ],
   "source": [
    "cahsee_15.columns.values"
   ]
  },
  {
   "cell_type": "code",
   "execution_count": 10,
   "metadata": {},
   "outputs": [
    {
     "data": {
      "text/html": [
       "<div>\n",
       "<style scoped>\n",
       "    .dataframe tbody tr th:only-of-type {\n",
       "        vertical-align: middle;\n",
       "    }\n",
       "\n",
       "    .dataframe tbody tr th {\n",
       "        vertical-align: top;\n",
       "    }\n",
       "\n",
       "    .dataframe thead th {\n",
       "        text-align: right;\n",
       "    }\n",
       "</style>\n",
       "<table border=\"1\" class=\"dataframe\">\n",
       "  <thead>\n",
       "    <tr style=\"text-align: right;\">\n",
       "      <th></th>\n",
       "      <th>CountyCode</th>\n",
       "      <th>DistrictCode</th>\n",
       "      <th>CharterNumber</th>\n",
       "      <th>SchoolCode</th>\n",
       "      <th>CountyName</th>\n",
       "      <th>DistrictName</th>\n",
       "      <th>SchoolName</th>\n",
       "      <th>RecordType</th>\n",
       "      <th>SummaryType</th>\n",
       "      <th>Administration</th>\n",
       "      <th>...</th>\n",
       "      <th>ELALRAPercentCorrect</th>\n",
       "      <th>ELAWSPercentCorrect</th>\n",
       "      <th>ELAWCPercentCorrect</th>\n",
       "      <th>ELAES1AvgScore</th>\n",
       "      <th>Filler</th>\n",
       "      <th>SystemDate</th>\n",
       "      <th>GradeLevel</th>\n",
       "      <th>MathPercentProfAndAbove</th>\n",
       "      <th>ELAPercentProfAndAbove</th>\n",
       "      <th>Unnamed: 42</th>\n",
       "    </tr>\n",
       "  </thead>\n",
       "  <tbody>\n",
       "    <tr>\n",
       "      <th>0</th>\n",
       "      <td>01</td>\n",
       "      <td>0</td>\n",
       "      <td>0</td>\n",
       "      <td>0</td>\n",
       "      <td>Alameda County</td>\n",
       "      <td></td>\n",
       "      <td></td>\n",
       "      <td>5</td>\n",
       "      <td>1</td>\n",
       "      <td>S</td>\n",
       "      <td>...</td>\n",
       "      <td>53.0</td>\n",
       "      <td>43.0</td>\n",
       "      <td>55.0</td>\n",
       "      <td>2.0</td>\n",
       "      <td>0</td>\n",
       "      <td>07/28/15</td>\n",
       "      <td>12</td>\n",
       "      <td>0.0</td>\n",
       "      <td>0.0</td>\n",
       "      <td>NaN</td>\n",
       "    </tr>\n",
       "    <tr>\n",
       "      <th>1</th>\n",
       "      <td>01</td>\n",
       "      <td>0</td>\n",
       "      <td>0</td>\n",
       "      <td>0</td>\n",
       "      <td>Alameda County</td>\n",
       "      <td></td>\n",
       "      <td></td>\n",
       "      <td>5</td>\n",
       "      <td>7</td>\n",
       "      <td>S</td>\n",
       "      <td>...</td>\n",
       "      <td>53.0</td>\n",
       "      <td>43.0</td>\n",
       "      <td>55.0</td>\n",
       "      <td>2.0</td>\n",
       "      <td>0</td>\n",
       "      <td>07/28/15</td>\n",
       "      <td>12</td>\n",
       "      <td>0.0</td>\n",
       "      <td>0.0</td>\n",
       "      <td>NaN</td>\n",
       "    </tr>\n",
       "    <tr>\n",
       "      <th>2</th>\n",
       "      <td>01</td>\n",
       "      <td>0</td>\n",
       "      <td>0</td>\n",
       "      <td>0</td>\n",
       "      <td>Alameda County</td>\n",
       "      <td></td>\n",
       "      <td></td>\n",
       "      <td>5</td>\n",
       "      <td>8</td>\n",
       "      <td>S</td>\n",
       "      <td>...</td>\n",
       "      <td>52.0</td>\n",
       "      <td>43.0</td>\n",
       "      <td>56.0</td>\n",
       "      <td>2.1</td>\n",
       "      <td>0</td>\n",
       "      <td>07/28/15</td>\n",
       "      <td>12</td>\n",
       "      <td>0.0</td>\n",
       "      <td>0.0</td>\n",
       "      <td>NaN</td>\n",
       "    </tr>\n",
       "  </tbody>\n",
       "</table>\n",
       "<p>3 rows × 43 columns</p>\n",
       "</div>"
      ],
      "text/plain": [
       "  CountyCode  DistrictCode  CharterNumber  SchoolCode      CountyName  \\\n",
       "0         01             0              0           0  Alameda County   \n",
       "1         01             0              0           0  Alameda County   \n",
       "2         01             0              0           0  Alameda County   \n",
       "\n",
       "  DistrictName SchoolName  RecordType  SummaryType Administration  \\\n",
       "0                                   5            1              S   \n",
       "1                                   5            7              S   \n",
       "2                                   5            8              S   \n",
       "\n",
       "      ...      ELALRAPercentCorrect  ELAWSPercentCorrect  ELAWCPercentCorrect  \\\n",
       "0     ...                      53.0                 43.0                 55.0   \n",
       "1     ...                      53.0                 43.0                 55.0   \n",
       "2     ...                      52.0                 43.0                 56.0   \n",
       "\n",
       "   ELAES1AvgScore  Filler  SystemDate  GradeLevel  MathPercentProfAndAbove  \\\n",
       "0             2.0       0    07/28/15          12                      0.0   \n",
       "1             2.0       0    07/28/15          12                      0.0   \n",
       "2             2.1       0    07/28/15          12                      0.0   \n",
       "\n",
       "   ELAPercentProfAndAbove  Unnamed: 42  \n",
       "0                     0.0          NaN  \n",
       "1                     0.0          NaN  \n",
       "2                     0.0          NaN  \n",
       "\n",
       "[3 rows x 43 columns]"
      ]
     },
     "execution_count": 10,
     "metadata": {},
     "output_type": "execute_result"
    }
   ],
   "source": [
    "cahsee_15.head(3)"
   ]
  },
  {
   "cell_type": "code",
   "execution_count": null,
   "metadata": {},
   "outputs": [],
   "source": [
    "cahsee_15.info()"
   ]
  },
  {
   "cell_type": "code",
   "execution_count": null,
   "metadata": {},
   "outputs": [],
   "source": [
    "cahsee_15 = cahsee_15[['CountyCode', 'DistrictCode', 'SchoolCode','CountyName','DistrictName', 'SchoolName', 'RecordType', 'SummaryType', \n",
    "    'MathGrade10AnswerSheetsProcessed','MathNumberTested', 'MathPercentPassed', 'MathPercentProfAndAbove', \n",
    "       'ELAGrade10AnswerSheetsProcessed', 'ELANumberTested', 'ELAPercentPassed', 'ELAPercentProfAndAbove']]"
   ]
  },
  {
   "cell_type": "code",
   "execution_count": null,
   "metadata": {},
   "outputs": [],
   "source": [
    "data_levels = {4: \"state\", 5: \"county\", 6: 'district', 7:'school'}\n",
    "\n",
    "cahsee_15 = cahsee_15.replace({\"RecordType\": data_levels})\n",
    "\n",
    "cahsee_15.head(5)"
   ]
  },
  {
   "cell_type": "markdown",
   "metadata": {},
   "source": [
    "I'm noticing the Percent Prof and Above columns are showing 0% for the first few rows. This appears odd to me as the 'Percent Passed' columns have non-zero values. I want to explore this further after routine data cleaning."
   ]
  },
  {
   "cell_type": "markdown",
   "metadata": {},
   "source": [
    "While the report uses dashes to represent suppressed data for number tested (n) <= 10, the file represents supressed data as 0's in the data rows. We'll manually suppress these rows and check the distribution of scores for the test levels."
   ]
  },
  {
   "cell_type": "code",
   "execution_count": null,
   "metadata": {},
   "outputs": [],
   "source": [
    "cahsee_15.loc[cahsee_15['MathNumberTested'] <= 10, ['MathPercentProfAndAbove','MathPercentPassed']] = None\n",
    "cahsee_15.loc[cahsee_15['ELANumberTested'] <= 10, ['ELAPercentProfAndAbove','ELAPercentPassed']] = None"
   ]
  },
  {
   "cell_type": "code",
   "execution_count": null,
   "metadata": {},
   "outputs": [],
   "source": [
    "state_level = cahsee_15.loc[cahsee_15['RecordType'] == 'state','MathPercentPassed']\n",
    "county_level = cahsee_15.loc[cahsee_15['RecordType'] == 'county','MathPercentPassed']\n",
    "district_level = cahsee_15.loc[cahsee_15['RecordType'] == 'district','MathPercentPassed']\n",
    "school_level = cahsee_15.loc[cahsee_15['RecordType'] == 'school','MathPercentPassed']"
   ]
  },
  {
   "cell_type": "code",
   "execution_count": null,
   "metadata": {},
   "outputs": [],
   "source": [
    "test = cahsee_15.loc[cahsee_15['MathPercentPassed'] == 0.0, 'MathGrade10AnswerSheetsProcessed']"
   ]
  },
  {
   "cell_type": "markdown",
   "metadata": {},
   "source": [
    "\"In addition to the use of the CAHSEE as a graduation requirement, the CAHSEE\n",
    "grade ten census administration is used in calculating the Academic Performance\n",
    "Index for state accountability purposes and Adequate Yearly Progress (AYP) to\n",
    "meet federal requirements.\""
   ]
  },
  {
   "cell_type": "code",
   "execution_count": null,
   "metadata": {},
   "outputs": [],
   "source": [
    "cahsee_15 = (cahsee_15.query('MathGrade10AnswerSheetsProcessed > 0 & ELAGrade10AnswerSheetsProcessed > 0'))"
   ]
  },
  {
   "cell_type": "code",
   "execution_count": null,
   "metadata": {},
   "outputs": [],
   "source": [
    "state_level = cahsee_15.loc[cahsee_15['RecordType'] == 'state','MathPercentPassed']\n",
    "county_level = cahsee_15.loc[cahsee_15['RecordType'] == 'county','MathPercentPassed']\n",
    "district_level = cahsee_15.loc[cahsee_15['RecordType'] == 'district','MathPercentPassed']\n",
    "school_level = cahsee_15.loc[cahsee_15['RecordType'] == 'school','MathPercentPassed']"
   ]
  },
  {
   "cell_type": "code",
   "execution_count": null,
   "metadata": {},
   "outputs": [],
   "source": [
    "fig = plt.figure(figsize=(20, 10))\n",
    "plt.subplot(221)\n",
    "plt.hist(state_level[~np.isnan(state_level)])\n",
    "plt.axvline(state_level.mean(), color = 'r', linestyle = 'dashed')\n",
    "plt.subplot(222)\n",
    "plt.hist(county_level[~np.isnan(county_level)])\n",
    "plt.axvline(county_level.mean(), color = 'r', linestyle = 'dashed')\n",
    "plt.subplot(223)\n",
    "plt.hist(district_level[~np.isnan(district_level)])\n",
    "plt.axvline(district_level.mean(), color = 'r', linestyle = 'dashed')\n",
    "plt.subplot(224)\n",
    "plt.hist(school_level[~np.isnan(school_level)])\n",
    "plt.axvline(school_level.mean(), color = 'r', linestyle = 'dashed')"
   ]
  },
  {
   "cell_type": "code",
   "execution_count": null,
   "metadata": {},
   "outputs": [],
   "source": [
    "cahsee_15.loc[cahsee_15['RecordType'] == 'school'].groupby(by = 'CountyName').agg({'MathPercentPassed':'mean', 'ELAPercentPassed': 'mean'}).sort_values('ELAPercentPassed', ascending = False)"
   ]
  },
  {
   "cell_type": "code",
   "execution_count": 22,
   "metadata": {},
   "outputs": [
    {
     "data": {
      "text/plain": [
       "array(['CDSCode', 'NCESDist', 'NCESSchool', 'StatusType', 'County',\n",
       "       'District', 'School', 'Street', 'StreetAbr', 'City', 'Zip',\n",
       "       'State', 'MailStreet', 'MailStrAbr', 'MailCity', 'MailZip',\n",
       "       'MailState', 'Phone', 'Ext', 'WebSite', 'OpenDate', 'ClosedDate',\n",
       "       'Charter', 'CharterNum', 'FundingType', 'DOC', 'DOCType', 'SOC',\n",
       "       'SOCType', 'EdOpsCode', 'EdOpsName', 'EILCode', 'EILName',\n",
       "       'GSoffered', 'GSserved', 'Virtual', 'Magnet', 'Latitude',\n",
       "       'Longitude', 'AdmFName1', 'AdmLName1', 'AdmEmail1', 'AdmFName2',\n",
       "       'AdmLName2', 'AdmEmail2', 'AdmFName3', 'AdmLName3', 'AdmEmail3',\n",
       "       'LastUpDate'], dtype=object)"
      ]
     },
     "execution_count": 22,
     "metadata": {},
     "output_type": "execute_result"
    }
   ],
   "source": [
    "ca_directory = pd.read_table(\"./data/pubschls.txt\", sep = \"\\t\", dtype = {\"CDSCode\" : object, \"NCESDist\": object, \"NCESSchool\": object} )\n",
    "ca_directory.columns.values"
   ]
  },
  {
   "cell_type": "code",
   "execution_count": 35,
   "metadata": {},
   "outputs": [
    {
     "data": {
      "text/plain": [
       "array([ True])"
      ]
     },
     "execution_count": 35,
     "metadata": {},
     "output_type": "execute_result"
    }
   ],
   "source": [
    "cahsee_15['CDSCode'] = cahsee_15['CountyCode'] + cahsee_15['DistrictCode'] + cahsee_15['SchoolCode']\n",
    "cahsee_15.loc[cahsee_15['SchoolName'] == 'Alameda High', 'CDSCode'].unique() == ca_directory.loc[ca_directory['School'] == 'Alameda High', 'CDSCode'].unique()"
   ]
  },
  {
   "cell_type": "code",
   "execution_count": 42,
   "metadata": {},
   "outputs": [
    {
     "data": {
      "text/plain": [
       "51682"
      ]
     },
     "execution_count": 42,
     "metadata": {},
     "output_type": "execute_result"
    }
   ],
   "source": [
    "test = pd.merge(cahsee_15, ca_directory.loc[:, ['CDSCode', 'Street', 'City', 'Zip','Latitude', 'Longitude']], \n",
    "                left_on = 'CDSCode', right_on = 'CDSCode', how = 'inner')\n",
    "cahsee_15.shape[0] - test.shape[0]"
   ]
  },
  {
   "cell_type": "code",
   "execution_count": null,
   "metadata": {},
   "outputs": [],
   "source": []
  }
 ],
 "metadata": {
  "kernelspec": {
   "display_name": "Python 3",
   "language": "python",
   "name": "python3"
  },
  "language_info": {
   "codemirror_mode": {
    "name": "ipython",
    "version": 3
   },
   "file_extension": ".py",
   "mimetype": "text/x-python",
   "name": "python",
   "nbconvert_exporter": "python",
   "pygments_lexer": "ipython3",
   "version": "3.6.5"
  }
 },
 "nbformat": 4,
 "nbformat_minor": 2
}
